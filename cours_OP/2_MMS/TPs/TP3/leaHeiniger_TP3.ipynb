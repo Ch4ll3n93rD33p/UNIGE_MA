{
 "cells": [
  {
   "cell_type": "markdown",
   "id": "62506468-7de4-4345-8992-d857cc455c96",
   "metadata": {},
   "source": [
    "Multimedia Security and Privacy  \n",
    "Lea Heiniger  \n",
    "25.05.2023   \n",
    "  \n",
    "  # TP3: Elements of Detection Theoryion\n",
    "  "
   ]
  },
  {
   "cell_type": "code",
   "execution_count": 1,
   "id": "fc813f77-ee51-4697-88b8-79a1bedcd66b",
   "metadata": {},
   "outputs": [],
   "source": [
    "import numpy as np\n",
    "from scipy.stats import norm\n",
    "import math\n",
    "from matplotlib import pyplot as plt"
   ]
  },
  {
   "cell_type": "markdown",
   "id": "e0bfb32f-c094-4927-81a9-f6f6caa8ec94",
   "metadata": {},
   "source": [
    "## 1 Elements of Detection Theory  \n",
    "\n"
   ]
  },
  {
   "cell_type": "markdown",
   "id": "443a8c7a-f325-46d0-8c16-6c8bc194f053",
   "metadata": {},
   "source": [
    "### Exercise 1  \n",
    "Let $X\\sim\\mathcal{N}(0,1)$ and $Y\\sim\\mathcal{N}(0,3)$ :  \n",
    "- $\\displaystyle P[-2<Y\\leq 1]=\\Phi\\left(\\frac{1-0}{3}\\right)-\\Phi\\left(\\frac{-2-0}{3}\\right)=\\Phi\\left(\\frac{1}{3}\\right)-\\left(1-\\Phi\\left(\\frac{2}{3}\\right)\\right)$   \n",
    "  \n",
    "- $\\displaystyle P[Y>5.5]=1-P[Y\\leq 5.5]=1-\\Phi\\left(\\frac{5.5}{3}\\right)$ \n",
    "  \n",
    "- $\\displaystyle P[-2<X\\leq 2]=\\Phi\\left(\\frac{2-0}{1}\\right)-\\Phi\\left(\\frac{-2-0}{1}\\right)=\\Phi(2)-(1-\\Phi(2))$  \n",
    "  \n",
    "- $\\displaystyle P[X>1.5]=1-P[X\\leq 1.5]=1-\\Phi(1.5)$"
   ]
  },
  {
   "cell_type": "code",
   "execution_count": 2,
   "id": "0687c188-f43a-4595-9444-43c8272dd23b",
   "metadata": {},
   "outputs": [
    {
     "name": "stdout",
     "output_type": "stream",
     "text": [
      "P[-2<Y<=1] =  0.3780661222713134\n",
      "P[Y>5.5]   =  0.03337650758481726\n",
      "P[-2<X<=2] =  0.9544997361036416\n",
      "P[X>1.5]   =  0.06680720126885807\n"
     ]
    }
   ],
   "source": [
    "muX, sigmaX = 0, 1\n",
    "muY, sigmaY = 0, 3\n",
    "\n",
    "print(\"P[-2<Y<=1] = \", norm.cdf(1, muY, sigmaY)-norm.cdf(-2, muY, sigmaY))\n",
    "print(\"P[Y>5.5]   = \", norm.sf(5.5, muY, sigmaY))\n",
    "print(\"P[-2<X<=2] = \", norm.cdf(2, muX, sigmaX)-norm.cdf(-2, muX, sigmaX))\n",
    "print(\"P[X>1.5]   = \", norm.sf(1.5, muX, sigmaX))"
   ]
  },
  {
   "cell_type": "markdown",
   "id": "f5091b61-f73b-47f1-b313-b3660b022d9a",
   "metadata": {},
   "source": [
    "### Exercise 2  \n",
    "Let $X$ denote the peak temperature in Geneva, in June, as measured in Celsius, for which holds:\n",
    "$X\\sim\\mathcal{N}(27, 9)$ :  \n",
    "- $\\displaystyle P[X>35]=1-P[X\\leq 35]=1-\\Phi\\left(\\frac{35-27}{9}\\right) =1-\\Phi\\left(\\frac{8}{9}\\right)$  \n",
    "  \n",
    "- $\\displaystyle P[X\\leq 5]=\\Phi\\left(\\frac{5-27}{9}\\right)=1-\\Phi\\left(\\frac{22}{9}\\right)$  \n",
    "  \n",
    "- $\\displaystyle P[20<X\\leq 40]=\\Phi\\left(\\frac{40-27}{9}\\right)-\\Phi\\left(\\frac{20-27}{9}\\right)=\\Phi\\left(\\frac{13}{9}\\right)-\\left(1-\\Phi\\left(\\frac{7}{9}\\right)\\right)$"
   ]
  },
  {
   "cell_type": "code",
   "execution_count": 3,
   "id": "07adf116-b70e-4fda-93da-2c92b47e7d92",
   "metadata": {},
   "outputs": [
    {
     "name": "stdout",
     "output_type": "stream",
     "text": [
      "P[X>35]     =  0.18703139874544122\n",
      "P[X<=5]     =  0.007253771124867817\n",
      "P[20<X<=40] =  0.7073429864110152\n"
     ]
    }
   ],
   "source": [
    "mu, sigma = 27, 9\n",
    "\n",
    "print(\"P[X>35]     = \", norm.sf(35, mu, sigma))\n",
    "print(\"P[X<=5]     = \", norm.cdf(5, mu, sigma))\n",
    "print(\"P[20<X<=40] = \", norm.cdf(40, mu, sigma)-norm.cdf(20, mu, sigma))"
   ]
  },
  {
   "cell_type": "markdown",
   "id": "7fec22b3-e54e-47b9-86e1-b5c9755b574e",
   "metadata": {
    "tags": []
   },
   "source": [
    "### Exercise 3  \n",
    "We know that $X$ is a Gaussian random variable, for which $E[X] = 0$ and $P[|X|\\leq 10] = 0.3$. We want to find the value of $\\sigma_{X}$ :  \n",
    "  \n",
    "We set $X\\sim\\mathcal{N}(0,\\sigma_{X})$.  \n",
    "$\n",
    "$$\\displaystyle~~~~~P[\\vert X\\vert\\leq 10]=0.3 \\\\\n",
    "\\displaystyle\\Leftrightarrow P[-10<X\\leq 10]=0.3\\\\\n",
    "\\displaystyle\\Leftrightarrow \\Phi\\left(\\frac{10-0}{\\sigma_{X}}\\right)-\\Phi\\left(\\frac{-10-0}{\\sigma_{X}}\\right)=0.3\\\\\n",
    "\\displaystyle\\Leftrightarrow \\Phi\\left(\\frac{10}{\\sigma_{X}}\\right)-\\left(1-\\Phi\\left(\\frac{10}{\\sigma_{X}}\\right)\\right)=0.3\\\\\n",
    "\\displaystyle\\Leftrightarrow 2\\cdot\\Phi\\left(\\frac{10}{\\sigma_{X}}\\right) = 1.3\\\\\n",
    "\\displaystyle\\Leftrightarrow \\Phi\\left(\\frac{10}{\\sigma_{X}}\\right) = 0.65\\\\\n",
    "\\Leftrightarrow \\sigma_{X}=\\displaystyle\\frac{10}{\\Phi^{-1}~(0.65)}$$\n",
    "$"
   ]
  },
  {
   "cell_type": "code",
   "execution_count": 4,
   "id": "be2ac3a5-8af5-4f9b-90e7-122290ea1833",
   "metadata": {},
   "outputs": [
    {
     "name": "stdout",
     "output_type": "stream",
     "text": [
      "sigmaX =  25.95242368834525\n"
     ]
    }
   ],
   "source": [
    "print(\"sigmaX = \", 10 / norm.ppf(0.65))"
   ]
  },
  {
   "cell_type": "markdown",
   "id": "551072bd-68f3-4037-b0ad-5c4c3334c4c7",
   "metadata": {
    "jp-MarkdownHeadingCollapsed": true,
    "tags": []
   },
   "source": [
    "### Exercise 4  \n",
    "We want to prove that $Q(n)=\\displaystyle\\frac{1}{2}erfc\\left(\\frac{n}{\\sqrt{2}}\\right)$ :  \n",
    "$Q(n) =\\displaystyle\\frac{1}{\\sqrt{2\\pi}}\\int_{n}^{\\infty}e^{\\displaystyle\\frac{-x^{2}}{2}}dx=\\frac{1}{2}\\left(\\frac{2}{\\sqrt{\\pi}}\\int_{n/\\sqrt{2}}^{\\infty}e^{-x^{2}}dx\\right)=\\frac{1}{2}-\\frac{1}{2}erf\\left(\\frac{n}{\\sqrt{2}}\\right)= \\frac{1}{2}erfc\\left(\\frac{n}{\\sqrt{2}}\\right)$"
   ]
  },
  {
   "cell_type": "markdown",
   "id": "f113af3a-0ae1-41af-bc21-055ecd796f98",
   "metadata": {},
   "source": [
    "## 3 Neyman-Pearson Test  "
   ]
  },
  {
   "cell_type": "markdown",
   "id": "74edfbd0-6618-4444-b7b2-1b57efb84075",
   "metadata": {},
   "source": [
    "### Exercise 5  \n",
    "Let there be two hypothesizes, $H_{0} : X=Z$ and $H_{1} : X=\\mu_{1}+Z$ where $Z\\sim\\mathcal{N}(0,1)$ and $\\mu_{1}=1$.  \n",
    "\n",
    "- We want to determine the separation threshold $\\tau$ following the MAP hypothesis, or likelihood ratio test :  \n",
    "We define $P[H_{0}]=p$ and $P[H_{1}]=1-p$.  \n",
    "The likelihood function is\n",
    "$\n",
    "$$\n",
    "f_{X\\vert H_{0}}~(x) = \\displaystyle\\frac{1}{\\sqrt{2\\pi\\sigma^{2}}}e^{\\displaystyle\\frac{-x^{2}}{2\\sigma^{2}}}\\\\\n",
    "f_{X\\vert H_{1}}~(x) = \\displaystyle\\frac{1}{\\sqrt{2\\pi\\sigma^{2}}}e^{\\displaystyle\\frac{-(x+\\mu_{1})^{2}}{2\\sigma^{2}}}\n",
    "$$\n",
    "$  \n",
    "And the MAP hypothesis is  \n",
    "$x \\in A_{0}$, if $\\displaystyle\\frac{f_{X\\vert H_{0}}~(x)}{f_{X\\vert H_{1}}~(x)}\\geq \\displaystyle\\frac{P[H_{1}]}{P[H_{0}]}$  \n",
    "$x \\in A_{1}$, otherwise  \n",
    "  \n",
    "for $x \\in A_{0}$ :  \n",
    "$\n",
    "$$\n",
    "\\displaystyle~~~~~\\frac{f_{X\\vert H_{0}}~(x)}{f_{X\\vert H_{1}}~(x)}\\geq \\displaystyle\\frac{P[H_{1}]}{P[H_{0}]}\\\\\n",
    "\\Leftrightarrow\\displaystyle\\frac{\\displaystyle\\frac{1}{\\sqrt{2\\pi\\sigma^{2}}}e^{\\displaystyle\\frac{-x^{2}}{2\\sigma^{2}}}}{\\displaystyle\\frac{1}{\\sqrt{2\\pi\\sigma^{2}}}e^{\\displaystyle\\frac{-(x+\\mu_{1})^{2}}{2\\sigma^{2}}}} \\geq \\frac{1-p}{p}\\\\\n",
    "\\Leftrightarrow\\displaystyle\\frac{e^{\\displaystyle\\frac{-x^{2}}{2\\sigma^{2}}}}{e^{\\displaystyle\\frac{-(x+\\mu_{1})^{2}}{2\\sigma^{2}}}}~\\geq \\frac{1-p}{p}\\\\\n",
    "\\Leftrightarrow ln\\left(\\displaystyle\\frac{e^{\\displaystyle\\frac{-x^{2}}{2\\sigma^{2}}}}{e^{\\displaystyle\\frac{-(x+\\mu_{1})^{2}}{2\\sigma^{2}}}}\\right) \\geq ln\\left(\\frac{1-p}{p}\\right)\\\\\n",
    "\\Leftrightarrow\\displaystyle\\frac{-2x\\mu_{1}+\\mu_{1}^{2}}{2\\sigma^{2}}\\geq ln\\left(\\frac{1-p}{p}\\right)\\\\\n",
    "\\Leftrightarrow -2x\\mu_{1}\\geq 2\\sigma^{2} ln\\left(\\frac{1-p}{p}\\right) - \\mu_{1}^{2}\\\\\n",
    "\\Leftrightarrow x\\leq \\displaystyle\\frac{2\\sigma^{2} ln\\left(\\frac{1-p}{p}\\right) - \\mu_{1}^{2}}{-2\\mu_{1}}\\\\\n",
    "\\Rightarrow \\tau = \\displaystyle -\\frac{\\sigma^{2}}{\\mu_{1}} ln\\left(\\frac{1-p}{p}\\right) + \\frac{\\mu_{1}}{2}\n",
    "$$\n",
    "$\n",
    "  \n",
    "- We want to determine the probability of correct detection $p_{d} = 1 − p_{m}$ :  \n",
    "$p_{d}=1-P(A_{0}\\vert H_{1})= 1-\\displaystyle\\int_{x<\\tau}f_{x\\vert H_{1}}(x)dx = 1-\\Phi(\\tau -1)= 1- \\Phi\\left(\\displaystyle -\\frac{\\sigma^{2}}{\\mu_{1}} ln\\left(\\frac{1-p}{p}\\right) + \\frac{\\mu_{1}}{2}-1\\right)$"
   ]
  },
  {
   "cell_type": "markdown",
   "id": "485ad4b6-089a-47f7-a1b8-dedda782b266",
   "metadata": {},
   "source": [
    "### Exercise 6  \n",
    "Let there be two hypothesizes, $H_{0} : X=Z$ and $H_{1} : X=\\mu_{1}+Z$ where $Z\\sim\\mathcal{N}(0,1)$ and $\\mu_{1}=\\lbrace 0, 1, 2 \\rbrace$.  \n",
    "From exercise 5 we have :  \n",
    "- $p_{m} = P(A_{0}\\vert H_{1}) = \\Phi(\\tau-\\mu_{1})= \\Phi\\left(\\displaystyle -\\frac{\\sigma^{2}}{\\mu_{1}} ln\\left(\\frac{1-p}{p}\\right) + \\frac{\\mu_{1}}{2}-\\mu_{1}\\right)$  \n",
    "  \n",
    "- $p_{d} = 1-p_{m} =1-\\Phi\\left(\\displaystyle -\\frac{\\sigma^{2}}{\\mu_{1}} ln\\left(\\frac{1-p}{p}\\right) + \\frac{\\mu_{1}}{2}-\\mu_{1}\\right)$  \n",
    "  \n",
    "- $p_{f}=P[A_{1}\\vert H_{0}]=P[X<\\tau\\vert H_{0}] = 1-\\Phi(\\tau)= 1- \\Phi\\left(\\displaystyle -\\frac{\\sigma^{2}}{\\mu_{1}} ln\\left(\\frac{1-p}{p}\\right) + \\frac{\\mu_{1}}{2}-1\\right)$"
   ]
  },
  {
   "cell_type": "code",
   "execution_count": 5,
   "id": "f0ed4078-62a4-4c87-a20e-22576b0f903b",
   "metadata": {},
   "outputs": [
    {
     "data": {
      "image/png": "[encoded data removed]",
      "text/plain": [
       "<Figure size 640x480 with 1 Axes>"
      ]
     },
     "metadata": {},
     "output_type": "display_data"
    }
   ],
   "source": [
    "list_tau = list(range(-3,7))\n",
    "p_f = 1-norm.cdf(list_tau)\n",
    "mu_1 = [0, 1, 2]\n",
    "l=[]\n",
    "for mu in mu_1:\n",
    "    p_m = [norm.cdf(tau-mu) for tau in list_tau]\n",
    "    plt.plot(p_f, p_m)\n",
    "    l.append(f'mu_1={mu}')\n",
    "plt.legend(l)\n",
    "plt.xlabel('p_f')\n",
    "plt.ylabel('p_m')\n",
    "plt.title('Receiver Operating Characteristic Curves')\n",
    "plt.show()"
   ]
  },
  {
   "cell_type": "markdown",
   "id": "b83e2f63-c65f-413a-890a-e5b3a1ee7703",
   "metadata": {},
   "source": [
    "* If $\\mu_{1}=0$ :  \n",
    "$H_{0} = H_{1} \\Rightarrow p_{m} = p_{f}$ therefor the signal recieved is the same wether there is a target or not. We can see it on the graph, the Reciever Operating Characteristic is a straight line.  \n",
    "  \n",
    "* If $\\mu_{1}=1$ or $\\mu_{1}=2$ :  \n",
    "Here $H_{0}$ and $H_{1}$ are distinct. We can see that the higher the value of $\\mu_{1}$ is (meaning that the difference between $H_{0}$ and $H_{1}$ is higher), the better the detection."
   ]
  },
  {
   "cell_type": "markdown",
   "id": "8848e6e9-9aae-4aa0-aa8c-d84c8e077776",
   "metadata": {
    "jp-MarkdownHeadingCollapsed": true,
    "tags": []
   },
   "source": [
    "### Exercise 7  \n",
    "* The hypotheses are $H_{0}: Y=W$ and $H_{1}: Y=V+W$ (where $V$ and $W$ are independent and identicaly distributed exponential variables)  \n",
    "  \n",
    "* Using the binary hypothesis likelihood ratio test we determine the rule that minimises $p_{err}$ :  \n",
    "$\n",
    "$$\n",
    "\\displaystyle~~~~~\\frac{f_{Y\\vert H_{0}}~(y)}{f_{Y\\vert H_{1}}~(y)}\\geq \\displaystyle\\frac{P[H_{1}]}{P[H_{0}]}\\\\\n",
    "\\displaystyle \\Leftrightarrow \\frac{f_{Y\\vert H_{0}}~(y)}{f_{Y\\vert H_{1}}~(y)}\\geq \\displaystyle\\frac{0.5}{0.5}=1\\\\\n",
    "\\displaystyle \\Leftrightarrow \\frac{e^{-y}}{ye^{-y}} \\geq 1\\\\\n",
    "\\displaystyle \\Leftrightarrow ln\\left( \\frac{e^{-y}}{ye^{-y}}\\right) \\geq ln(1)\\\\\n",
    "\\displaystyle \\Leftrightarrow ln(e^{-y})-ln(ye^{-y}) \\geq 0\\\\\n",
    "\\displaystyle \\Leftrightarrow -y-ln(y)+y\\geq 0\\\\\n",
    "\\displaystyle \\Leftrightarrow ln(y) \\leq 0\\\\\n",
    "\\displaystyle \\Leftrightarrow y\\leq 1\n",
    "$$\n",
    "$\n",
    "the minimising rule is $\\tau = 1$  \n",
    "  \n",
    "* Using the optimum decision rule we determine $p_{err}$ :  \n",
    "$\n",
    "$$\n",
    "\\displaystyle~~~~~ p_{err}=P(A_{1}\\vert H_{0})\\cdot P(H_{0})+P(A_{0}\\vert H_{1})\\cdot P(H_{1})\\\\\n",
    "\\displaystyle \\Leftrightarrow p_{err} = \\frac{1}{2}P(A_{1}\\vert H_{0})+\\frac{1}{2}P(A_{0}\\vert H_{1})\\\\\n",
    "\\displaystyle \\Leftrightarrow p_{err} = \\frac{1}{2}\\displaystyle \\int_{y>\\tau}f_{Y\\vert H_{0}}~(y)~dy +\\frac{1}{2}\\displaystyle \\int_{y<\\tau}f_{Y\\vert H_{1}}~(y)~dy\\\\\n",
    "\\displaystyle \\Leftrightarrow p_{err} = \\frac{1}{2}\\displaystyle \\int_{1}^{\\infty}e^{-y}~dy +\\frac{1}{2}\\displaystyle \\int_{0}^{1}ye^{-y}~dy\\\\\n",
    "\\displaystyle \\Leftrightarrow p_{err} = \\frac{1}{2}\\left(\\frac{1}{e}+\\frac{e-22}{e}\\right)= \\frac{1}{2}\\left(1-\\frac{1}{e}\\right)\n",
    "$$\n",
    "$"
   ]
  }
 ],
 "metadata": {
  "kernelspec": {
   "display_name": "Python 3 (ipykernel)",
   "language": "python",
   "name": "python3"
  },
  "language_info": {
   "codemirror_mode": {
    "name": "ipython",
    "version": 3
   },
   "file_extension": ".py",
   "mimetype": "text/x-python",
   "name": "python",
   "nbconvert_exporter": "python",
   "pygments_lexer": "ipython3",
   "version": "3.10.6"
  }
 },
 "nbformat": 4,
 "nbformat_minor": 5
}
