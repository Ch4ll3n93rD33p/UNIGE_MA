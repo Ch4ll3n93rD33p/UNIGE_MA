{
 "cells": [
  {
   "attachments": {},
   "cell_type": "markdown",
   "metadata": {
    "id": "zOaqjlM7wRs0"
   },
   "source": [
    "### Léa Heiniger  \n",
    "02.10.2023  \n",
    "\n",
    "# Data Science Classwork - Seminar 1"
   ]
  },
  {
   "cell_type": "markdown",
   "metadata": {
    "id": "jC4ttbGb0RPs"
   },
   "source": [
    "## Introduction\n",
    "\n",
    "This notebook will give you an introduction to Python and Jupyter notebooks in general.\n",
    "\n",
    "\n",
    "---\n",
    "\n",
    "\n",
    "**Vocabulary: Notebook**\n",
    "\n",
    "A notebook, especially in the context of platforms like Jupyter, is an interactive environment that allows you to write and execute code, as well as include text, images, equations, and other media. It's a powerful tool for data analysis, scientific research, and education."
   ]
  },
  {
   "cell_type": "markdown",
   "metadata": {
    "id": "vFk_63Zf1Quf"
   },
   "source": [
    "**Printing in Python**\n",
    "\n",
    "To display content in Python, you can use the print function. Try executing the code below by clicking on the cell and then pressing the **Run** button (or **Shift + Enter** on your keyboard)."
   ]
  },
  {
   "cell_type": "code",
   "execution_count": 1,
   "metadata": {
    "colab": {
     "base_uri": "https://localhost:8080/"
    },
    "id": "v4fWnr5v1HXw",
    "outputId": "9642d9a0-96dc-43ea-9fc4-5825648ea840"
   },
   "outputs": [
    {
     "name": "stdout",
     "output_type": "stream",
     "text": [
      "Hello world!\n"
     ]
    }
   ],
   "source": [
    "print(\"Hello world!\")"
   ]
  },
  {
   "cell_type": "markdown",
   "metadata": {
    "id": "nX-uWKdN1cuK"
   },
   "source": [
    "If done correctly, \"Hello, World!\" should be displayed beneath the cell.\n",
    "\n",
    "**Variables**\n",
    "\n",
    "In Python, you can store data in variables. Unlike some other languages, you don't need to declare the data type of a variable; Python will figure it out for you."
   ]
  },
  {
   "cell_type": "code",
   "execution_count": 2,
   "metadata": {
    "colab": {
     "base_uri": "https://localhost:8080/"
    },
    "id": "8R-vcTp91gTg",
    "outputId": "6f9fe0a2-0a61-475c-f7b7-984db1e08cc5"
   },
   "outputs": [
    {
     "name": "stdout",
     "output_type": "stream",
     "text": [
      "Alice\n",
      "30\n"
     ]
    }
   ],
   "source": [
    "name = \"Alice\"\n",
    "age = 30\n",
    "\n",
    "print(name)\n",
    "print(age)"
   ]
  },
  {
   "cell_type": "markdown",
   "metadata": {
    "id": "4CZzDGGY1nWn"
   },
   "source": [
    "**Basic Math**\n",
    "\n",
    "Python supports all the basic arithmetic operations:"
   ]
  },
  {
   "cell_type": "code",
   "execution_count": 3,
   "metadata": {
    "colab": {
     "base_uri": "https://localhost:8080/"
    },
    "id": "LMu2HhtC1rWO",
    "outputId": "176a69e0-980c-4ea6-a3ff-64fa4a731a5c"
   },
   "outputs": [
    {
     "name": "stdout",
     "output_type": "stream",
     "text": [
      "30\n",
      "-10\n",
      "200\n",
      "0.5\n"
     ]
    }
   ],
   "source": [
    "a = 10\n",
    "b = 20\n",
    "\n",
    "print(a + b)  # Addition\n",
    "print(a - b)  # Subtraction\n",
    "print(a * b)  # Multiplication\n",
    "print(a / b)  # Division"
   ]
  },
  {
   "cell_type": "markdown",
   "metadata": {
    "id": "hYEIg5Ow1ws-"
   },
   "source": [
    "**Lists**\n",
    "\n",
    "A list in Python is an ordered collection of items:"
   ]
  },
  {
   "cell_type": "code",
   "execution_count": 4,
   "metadata": {
    "colab": {
     "base_uri": "https://localhost:8080/",
     "height": 242
    },
    "id": "u2u8mGaM1zsL",
    "outputId": "19d93ae8-7fff-4ccc-bf99-3912b0c3b182"
   },
   "outputs": [
    {
     "name": "stdout",
     "output_type": "stream",
     "text": [
      "['apple', 'banana', 'cherry']\n",
      "apple\n"
     ]
    }
   ],
   "source": [
    "fruits = [\"apple\", \"banana\", \"cherry\"]\n",
    "\n",
    "# Print the entire list\n",
    "print(fruits)\n",
    "\n",
    "# Print the first item in the list\n",
    "print(fruits[0])\n",
    "\n"
   ]
  },
  {
   "cell_type": "code",
   "execution_count": 5,
   "metadata": {
    "colab": {
     "base_uri": "https://localhost:8080/"
    },
    "id": "uWS8mLG5b-ea",
    "outputId": "0d15e658-cef7-4f98-bf8e-90b144ea8156"
   },
   "outputs": [
    {
     "name": "stdout",
     "output_type": "stream",
     "text": [
      "['apple', 'banana', 'cherry', 'orange']\n",
      "['apple', 'banana', 'cherry', 'orange']\n"
     ]
    }
   ],
   "source": [
    "# Add element to the list\n",
    "fruit = \"orange\"\n",
    "\n",
    "# you can add an element using +\n",
    "updated_fruits = fruits + [fruit,]\n",
    "print(updated_fruits)\n",
    "\n",
    "# you can add an element using append\n",
    "fruits.append(fruit)\n",
    "print(fruits)\n"
   ]
  },
  {
   "cell_type": "markdown",
   "metadata": {
    "id": "mUppanU8cbG9"
   },
   "source": [
    "Try adding an element in the beginning of the list, in the middle.\n",
    "\n",
    "Append is in-place operation, so it changes the list directly. Make sure you understand what it means and how it differs from + here."
   ]
  },
  {
   "cell_type": "markdown",
   "metadata": {
    "id": "J_M7ouBv2dVc"
   },
   "source": [
    "**Vocabulary: Getting Started with Notebooks**\n",
    "\n",
    "**Cells**: Notebooks are made up of cells. A cell can contain either code or markdown (text, images, equations, etc.).\n",
    "\n",
    "**Running a cell**: To run a cell, select it and press the **Run** button or use the **Shift + Enter** shortcut.\n",
    "\n",
    "**Adding a cell**: You can add a new cell by using the \"**+ Code**\" option.\n",
    "\n",
    "**Markdown**: For text cells, notebooks often use markdown syntax, which allows you to format text, add links, images, and more. Add it with \"**+ Text**\"."
   ]
  },
  {
   "cell_type": "markdown",
   "metadata": {
    "id": "w29xTYsT3YOh"
   },
   "source": [
    "\n",
    "\n",
    "---\n",
    "\n",
    "We finished a basic introduction, let's look at the library which you will use a lot for linear algenbra: **NumPy**\n",
    "\n",
    "# What is NumPy?\n",
    "\n",
    "**NumPy** (Numerical Python) is one of the most foundational packages for numerical computations in Python. It provides support for large multi-dimensional arrays and matrices, along with a collection of mathematical functions to operate on these arrays.\n",
    "\n",
    "# Why NumPy?\n",
    "\n",
    "**Performance**: NumPy operations are implemented in C, providing faster executions than traditional Python loops.\n",
    "\n",
    "**Multidimensional Arrays**: Helps you efficiently handle and compute data.\n",
    "\n",
    "**Mathematical Functions**: Offers a wide range of functions for statistical, linear algebra, and other numerical operations."
   ]
  },
  {
   "cell_type": "code",
   "execution_count": 6,
   "metadata": {
    "id": "FPwDd_dpNbUO"
   },
   "outputs": [],
   "source": [
    "import numpy as np"
   ]
  },
  {
   "cell_type": "markdown",
   "metadata": {
    "id": "e38teLTg3kmT"
   },
   "source": [
    "# NumPy: Creating Arrays\n",
    "\n",
    "One of the most fundamental structures in NumPy is the array, a grid of values of the same type.\n",
    "\n",
    "Here, we are creating a NumPy array a from the range of numbers starting at 2, ending before 8, with a step size of 3.\n",
    "\n",
    "**2** 3 4 **5** 6 7 8\n",
    "\n",
    "This will result in an array containing [2, 5]."
   ]
  },
  {
   "cell_type": "code",
   "execution_count": 7,
   "metadata": {
    "colab": {
     "base_uri": "https://localhost:8080/"
    },
    "id": "mSnUlHbPNsIM",
    "outputId": "cb632ccd-4cdb-432c-d553-357d61ef70bb"
   },
   "outputs": [
    {
     "data": {
      "text/plain": [
       "array([2, 5])"
      ]
     },
     "execution_count": 7,
     "metadata": {},
     "output_type": "execute_result"
    }
   ],
   "source": [
    "a=np.array(range(2,8,3))\n",
    "a"
   ]
  },
  {
   "cell_type": "markdown",
   "metadata": {
    "id": "oYOOOoMy4Z-z"
   },
   "source": [
    "*Note: when you type the variable as the last line of the cell, Jupyter Notebook automatically prints it.*"
   ]
  },
  {
   "cell_type": "code",
   "execution_count": 8,
   "metadata": {
    "colab": {
     "base_uri": "https://localhost:8080/"
    },
    "id": "vP1_IImp4ncv",
    "outputId": "45f7e66c-308c-4d53-faf1-d4446c3258d3"
   },
   "outputs": [
    {
     "data": {
      "text/plain": [
       "(3, 4)"
      ]
     },
     "execution_count": 8,
     "metadata": {},
     "output_type": "execute_result"
    }
   ],
   "source": [
    "v1 = 3\n",
    "v2 = 4\n",
    "v1, v2"
   ]
  },
  {
   "cell_type": "markdown",
   "metadata": {
    "id": "G40cam4e4vB0"
   },
   "source": [
    "# NumPy: Understanding the Shape\n",
    "\n",
    "The **shape** attribute of a NumPy array tells us about its dimensions:"
   ]
  },
  {
   "cell_type": "code",
   "execution_count": 9,
   "metadata": {
    "colab": {
     "base_uri": "https://localhost:8080/"
    },
    "id": "U7xeyvu5N0IB",
    "outputId": "eff80a09-fc3f-4c7c-de30-5b26a6cafeca"
   },
   "outputs": [
    {
     "data": {
      "text/plain": [
       "(2,)"
      ]
     },
     "execution_count": 9,
     "metadata": {},
     "output_type": "execute_result"
    }
   ],
   "source": [
    "a.shape"
   ]
  },
  {
   "cell_type": "markdown",
   "metadata": {
    "id": "2rPGY83c40oH"
   },
   "source": [
    "# Numpy: Reshaping Arrays\n",
    "\n",
    "We can change the dimensions of an array without changing its data:\n",
    "\n"
   ]
  },
  {
   "cell_type": "code",
   "execution_count": 10,
   "metadata": {
    "colab": {
     "base_uri": "https://localhost:8080/"
    },
    "id": "RC4Krb3WN1Va",
    "outputId": "d1837ab5-8f27-4bec-ea7f-bda4388a32cf"
   },
   "outputs": [
    {
     "data": {
      "text/plain": [
       "array([[2],\n",
       "       [5]])"
      ]
     },
     "execution_count": 10,
     "metadata": {},
     "output_type": "execute_result"
    }
   ],
   "source": [
    "a=a.reshape(-1,1)\n",
    "a"
   ]
  },
  {
   "cell_type": "markdown",
   "metadata": {
    "id": "y-rzrmV85ttj"
   },
   "source": [
    "By reshaping, we've converted a into a two-dimensional column vector."
   ]
  },
  {
   "cell_type": "markdown",
   "metadata": {
    "id": "2ksZvcBa5uyz"
   },
   "source": [
    "# NumPy: Transposition\n",
    "\n",
    "Transposing a matrix means to flip it over its diagonal, turning row vectors into column vectors and vice versa:"
   ]
  },
  {
   "cell_type": "code",
   "execution_count": 11,
   "metadata": {
    "colab": {
     "base_uri": "https://localhost:8080/"
    },
    "id": "C4tZmC1cN70V",
    "outputId": "f1c1dbcf-b3e6-49b8-9408-4f0902e8d172"
   },
   "outputs": [
    {
     "data": {
      "text/plain": [
       "(2, 1)"
      ]
     },
     "execution_count": 11,
     "metadata": {},
     "output_type": "execute_result"
    }
   ],
   "source": [
    "a.shape"
   ]
  },
  {
   "cell_type": "code",
   "execution_count": 12,
   "metadata": {
    "colab": {
     "base_uri": "https://localhost:8080/"
    },
    "id": "E_QhbNO1N829",
    "outputId": "435b0249-8b6e-4e5a-8c6a-5045853a83e6"
   },
   "outputs": [
    {
     "data": {
      "text/plain": [
       "array([[2, 5]])"
      ]
     },
     "execution_count": 12,
     "metadata": {},
     "output_type": "execute_result"
    }
   ],
   "source": [
    "a.T"
   ]
  },
  {
   "cell_type": "code",
   "execution_count": 13,
   "metadata": {
    "colab": {
     "base_uri": "https://localhost:8080/"
    },
    "id": "mMa1beKuN-Gl",
    "outputId": "1ad33c84-83ef-4fc6-b331-65bf63344922"
   },
   "outputs": [
    {
     "data": {
      "text/plain": [
       "(1, 2)"
      ]
     },
     "execution_count": 13,
     "metadata": {},
     "output_type": "execute_result"
    }
   ],
   "source": [
    "a.T.shape"
   ]
  },
  {
   "cell_type": "markdown",
   "metadata": {
    "id": "ZE7iFYiN53Dg"
   },
   "source": [
    "# NumPy: Matrix Multiplication\n",
    "\n",
    "NumPy allows us to perform matrix multiplication using the @ operator."
   ]
  },
  {
   "cell_type": "code",
   "execution_count": 14,
   "metadata": {
    "colab": {
     "base_uri": "https://localhost:8080/"
    },
    "id": "iEgcPQ8vOAEs",
    "outputId": "8ec1ad5e-f4c8-4449-9b41-fbd390611c72"
   },
   "outputs": [
    {
     "data": {
      "text/plain": [
       "array([[ 4, 10],\n",
       "       [10, 25]])"
      ]
     },
     "execution_count": 14,
     "metadata": {},
     "output_type": "execute_result"
    }
   ],
   "source": [
    "a.T*a"
   ]
  },
  {
   "cell_type": "code",
   "execution_count": 15,
   "metadata": {
    "colab": {
     "base_uri": "https://localhost:8080/"
    },
    "id": "MumUCuU3OEaB",
    "outputId": "4aaf18d4-48c2-4436-c9ee-b0eae92fc28c"
   },
   "outputs": [
    {
     "data": {
      "text/plain": [
       "array([[5.38516481]])"
      ]
     },
     "execution_count": 15,
     "metadata": {},
     "output_type": "execute_result"
    }
   ],
   "source": [
    "(a.T @ a) ** 0.5"
   ]
  },
  {
   "cell_type": "markdown",
   "metadata": {
    "id": "HGkgZhfR6A9y"
   },
   "source": [
    "# NumPy:  Norm of a Matrix\n",
    "\n",
    "The norm of a matrix or vector is a scalar that gives some measure of the magnitude of the elements of the matrix or vector. Let's compute it:"
   ]
  },
  {
   "cell_type": "code",
   "execution_count": 16,
   "metadata": {
    "colab": {
     "base_uri": "https://localhost:8080/"
    },
    "id": "u5PdBCpchuJ7",
    "outputId": "f3bc72c8-f176-423f-99ff-171402801cf6"
   },
   "outputs": [
    {
     "data": {
      "text/plain": [
       "5.385164807134504"
      ]
     },
     "execution_count": 16,
     "metadata": {},
     "output_type": "execute_result"
    }
   ],
   "source": [
    "np.linalg.norm(a)"
   ]
  },
  {
   "cell_type": "markdown",
   "metadata": {
    "id": "kZjPilogMONo"
   },
   "source": [
    "**Vectors using numpy**\n",
    "\n",
    "Create vectors of a given shape (5,1) using [np.ones](https://numpy.org/doc/stable/reference/generated/numpy.ones.html), [np.zeros](https://numpy.org/doc/stable/reference/generated/numpy.zeros.html) and [np.random.rand](https://numpy.org/doc/stable/reference/random/generated/numpy.random.rand.html)\n"
   ]
  },
  {
   "cell_type": "code",
   "execution_count": 17,
   "metadata": {
    "id": "0pygmfNdMNkG"
   },
   "outputs": [],
   "source": [
    "shape = (5,1)"
   ]
  },
  {
   "cell_type": "code",
   "execution_count": 18,
   "metadata": {
    "id": "hMOnnyj3MaqV"
   },
   "outputs": [
    {
     "data": {
      "text/plain": [
       "array([[1.],\n",
       "       [1.],\n",
       "       [1.],\n",
       "       [1.],\n",
       "       [1.]])"
      ]
     },
     "execution_count": 18,
     "metadata": {},
     "output_type": "execute_result"
    }
   ],
   "source": [
    "#ones\n",
    "vectors = np.ones(shape)\n",
    "vectors"
   ]
  },
  {
   "cell_type": "code",
   "execution_count": 19,
   "metadata": {
    "id": "QG2KIBN6MeCl"
   },
   "outputs": [
    {
     "data": {
      "text/plain": [
       "array([[0.],\n",
       "       [0.],\n",
       "       [0.],\n",
       "       [0.],\n",
       "       [0.]])"
      ]
     },
     "execution_count": 19,
     "metadata": {},
     "output_type": "execute_result"
    }
   ],
   "source": [
    "#zeros\n",
    "vectors = np.zeros(shape)\n",
    "vectors"
   ]
  },
  {
   "cell_type": "code",
   "execution_count": 20,
   "metadata": {
    "id": "Uzr97n6EMpT-"
   },
   "outputs": [
    {
     "data": {
      "text/plain": [
       "array([[0.56032003],\n",
       "       [0.00547678],\n",
       "       [0.69003654],\n",
       "       [0.96248119],\n",
       "       [0.45236301]])"
      ]
     },
     "execution_count": 20,
     "metadata": {},
     "output_type": "execute_result"
    }
   ],
   "source": [
    "#random\n",
    "vectors = np.random.rand(5,1)\n",
    "vectors"
   ]
  },
  {
   "cell_type": "markdown",
   "metadata": {
    "id": "nIYRDeQ7dAPC"
   },
   "source": [
    "Check what random takes as arguments. You might want to use operation * on Tuple.\n",
    "\n",
    "(you can google  \"Unpacking Operators in Python\" if you want to learn more)"
   ]
  },
  {
   "cell_type": "code",
   "execution_count": 21,
   "metadata": {
    "id": "ugEbma0VdviM"
   },
   "outputs": [
    {
     "name": "stdout",
     "output_type": "stream",
     "text": [
      "(5, 1)\n",
      "5 1\n"
     ]
    }
   ],
   "source": [
    "print(shape)\n",
    "print(*shape)"
   ]
  },
  {
   "cell_type": "markdown",
   "metadata": {
    "id": "uoMzsA27OVCs"
   },
   "source": [
    "# **Problem 1: Represantation space with data vectors (slides 8-9)**\n",
    "\n",
    "## Representation Space\n",
    "\n",
    "Data $X = \\{x_1, \\dots, x_N\\}$ where $x_i \\in \\Omega \\subseteq \\mathbb{R}^D$ for all $i \\in [[N]]$.\n",
    "\n",
    "### Statistical View\n",
    "\n",
    "Data $X$ is an $N$-sized sample of the underlying $D$-variate pdf $f_X : \\Omega \\rightarrow \\mathbb{R}^+$.\n",
    "We declare $N$ i.i.d random variables $\\{X_i\\}_{i\\in[[N]]}$, where $X_i \\sim f_X$.\n",
    "Every data $x_i$ is a sample of $X_i$.\n",
    "\n",
    "### Algebraic View\n",
    "\n",
    "Given $X$, we form matrix\n",
    "\n",
    "$$\n",
    "X =\n",
    "\\begin{pmatrix}\n",
    "| & & | \\\\\n",
    "x_1 & \\dots & x_N \\\\\n",
    "| & & |\n",
    "\\end{pmatrix}\n",
    "\\in \\mathbb{R}^{D \\times N}\n",
    "$$\n",
    "\n",
    "whose columns $X_{.j} = x_j$ are the data vectors.\n",
    "\n",
    "## Data Sparsity\n",
    "\n",
    "Given a population over hypercube $\\Omega = [a, b]^D$ for some $a$, $b$, $D$. $X$ is a sample of this population.\n",
    "\n",
    "To obtain an empirical estimate (histogram) of the pdf, we quantize each dimension uniformly into $b$ bins. To obtain a decent estimation quality, we hope for an average of $n$ samples per bin.\n",
    "\n",
    "### Question:\n",
    "How many samples do we need: what should $N$ be?\n",
    "\n",
    "- $D = 1 \\rightarrow N \\approx n \\cdot b$\n",
    "- $D = 2 \\rightarrow N \\approx n \\cdot b^2$\n",
    "- ...\n",
    "- $D \\rightarrow N \\approx n \\cdot b^D$\n",
    "\n",
    "**Example**: $b = 10$, $n = 10$, $D = 6 \\Rightarrow N \\approx 10^7$ samples.\n"
   ]
  },
  {
   "cell_type": "markdown",
   "metadata": {
    "id": "464GX64a8IDT"
   },
   "source": [
    "**Task: Sample Size in 3D**\n",
    "\n",
    "Given a three-dimensional space ($\\mathbb{R}^3$), you are required to generate samples and divide the space into bins.\n",
    "\n",
    "Determine the total number of samples needed such that:\n",
    "\n",
    "*   The entire space is divided into 10 bins along each dimension.\n",
    "*   Each bin contains exactly 5 samples.\n",
    "\n",
    "*Hint: Remember how the number of samples scales with the dimension and the number of bins.*"
   ]
  },
  {
   "cell_type": "code",
   "execution_count": 22,
   "metadata": {
    "id": "CvuKLpohQIdo"
   },
   "outputs": [
    {
     "data": {
      "text/plain": [
       "5000"
      ]
     },
     "execution_count": 22,
     "metadata": {},
     "output_type": "execute_result"
    }
   ],
   "source": [
    "D = 3 #representation space dimensionality\n",
    "b = 10 #bins\n",
    "n = 5 #samples per bin we want\n",
    "\n",
    "# To find out L, refer to the lectures\n",
    "L = n*(b**D) #number of samples we need to genenrate to have n samples per bin\n",
    "assert isinstance(L, (int, float)), \"L should be a scalar\"\n",
    "\n",
    "L"
   ]
  },
  {
   "cell_type": "markdown",
   "metadata": {
    "id": "vy2hegbtK3QM"
   },
   "source": [
    "**Task: Matrix Sample Generation**\n",
    "\n",
    "Complete the function **generate_sample** below to produce a matrix of random numbers (uniform from [0,1) ) with a specified shape. Use np.random.rand again"
   ]
  },
  {
   "cell_type": "code",
   "execution_count": 23,
   "metadata": {
    "id": "9H-Z8GHsOdiI"
   },
   "outputs": [
    {
     "data": {
      "text/plain": [
       "array([[0.56846362, 0.76651774, 0.16408652],\n",
       "       [0.5312113 , 0.86022441, 0.06446075],\n",
       "       [0.04910759, 0.26175972, 0.43336441],\n",
       "       [0.88928605, 0.81276051, 0.27024583],\n",
       "       [0.45980744, 0.45434252, 0.02126181],\n",
       "       [0.95560284, 0.59420724, 0.84222347]])"
      ]
     },
     "execution_count": 23,
     "metadata": {},
     "output_type": "execute_result"
    }
   ],
   "source": [
    "def generate_sample(shape: tuple) -> np.ndarray:\n",
    "  return np.random.rand(*shape)\n",
    "shape=(L, D)\n",
    "X = generate_sample(shape)\n",
    "X[:6]"
   ]
  },
  {
   "cell_type": "markdown",
   "metadata": {
    "id": "ZW8qbA0YW0dh"
   },
   "source": [
    "**Task: D-dimensional Histogram Generation**\n",
    "\n",
    "Your objective is to utilize the [np.histogramdd](https://numpy.org/doc/stable/reference/generated/numpy.histogramdd.html) function to produce a D-dimensional histogram with a specified number of bins, b.\n",
    "\n",
    "The resulting histogram should:\n",
    "\n",
    "\n",
    "*   Have a shape (b, b, ..., b) where b is repeated D times.\n",
    "*   Contain elements that represent the number of samples in each bin.\n",
    "\n",
    "\n",
    "    \n",
    "    "
   ]
  },
  {
   "cell_type": "code",
   "execution_count": 24,
   "metadata": {
    "id": "0fzPGehtOfB5"
   },
   "outputs": [],
   "source": [
    "def generate_histogram(data: np.ndarray, bins: int) -> np.ndarray:\n",
    "  hist, _ = np.histogramdd(data, bins)\n",
    "  return hist\n",
    "\n",
    "h = generate_histogram(data=X, bins=b)"
   ]
  },
  {
   "cell_type": "code",
   "execution_count": 25,
   "metadata": {
    "id": "hJ1ph5n8S9Wh"
   },
   "outputs": [],
   "source": [
    "assert h.shape == (10, 10, 10)"
   ]
  },
  {
   "cell_type": "code",
   "execution_count": 26,
   "metadata": {
    "id": "btz9djtzPMJ3"
   },
   "outputs": [],
   "source": [
    "D_range = range(1,8) \n",
    "h_values = []\n",
    "N = L\n",
    "for D in D_range: # we iterate of the bins\n",
    "  shape=(N, D)\n",
    "  X = generate_sample(shape) # generates a random sample of shape (N, D)\n",
    "  h = generate_histogram(X, b) # generates the histogram of the sample\n",
    "  h_mean = np.mean(h) # computes the average of the sample from the histogram\n",
    "  p = h_mean/N \n",
    "  h_values.append(h_mean) # adds the mean in the list of values (that will be ploted)"
   ]
  },
  {
   "cell_type": "markdown",
   "metadata": {
    "id": "CsJmZlKCAnqC"
   },
   "source": [
    "**Task: Data Sparsity**\n",
    "\n",
    "The objective of this task is to illustrate how, with increasing dimensionality D, the average number of samples within each bin decreases, leading to data sparsity.\n",
    "\n",
    "Given the functions you've previously implemented, the provided code will help demonstrate this phenomenon. Your responsibilities are:\n",
    "\n",
    "    \n",
    "\n",
    "*   Ensure the provided code runs correctly.\n",
    "*   Understand each line of the code.\n",
    "*   Annotate the code with comments to explain its operation"
   ]
  },
  {
   "cell_type": "code",
   "execution_count": 27,
   "metadata": {
    "id": "IJ6fHeSQRc2B"
   },
   "outputs": [],
   "source": [
    "import matplotlib.pyplot as plt"
   ]
  },
  {
   "cell_type": "code",
   "execution_count": 28,
   "metadata": {
    "id": "_rw4Pkg4SI83"
   },
   "outputs": [
    {
     "data": {
      "text/plain": [
       "Text(0, 0.5, 'Average sample in the bin')"
      ]
     },
     "execution_count": 28,
     "metadata": {},
     "output_type": "execute_result"
    },
    {
     "data": {
      "image/png": "[encoded data removed]",
      "text/plain": [
       "<Figure size 640x480 with 1 Axes>"
      ]
     },
     "metadata": {},
     "output_type": "display_data"
    }
   ],
   "source": [
    "plt.plot(D_range, h_values)\n",
    "plt.xlabel(\"Dimensionality\")\n",
    "plt.ylabel(\"Average sample in the bin\")"
   ]
  },
  {
   "cell_type": "markdown",
   "metadata": {
    "id": "UxpmVS7oWORC"
   },
   "source": [
    "# **Problem 2: Empty Sphere**\n",
    "\n",
    "Consider the hypersphere \\( B^D(r) \\) with a radius \\( r \\) centered at the origin.\n",
    "\n",
    "This hypersphere is contained within the hypercube \\( C^D(r) = [-r, r]^D \\).\n",
    "\n",
    "Your objective is to draw \\( N \\) uniform samples from within this cube, i.e., from \\( U(C^D(r)) \\).\n",
    "\n",
    "## Task: Samples from the Hypersphere and the Hypercube (Slides 10-11)\n",
    "\n",
    "**Objective**:\n",
    "Illustrate the number of points that fall within the hypersphere when you uniformly sample from the encompassing hypercube in a D-dimensional space.\n",
    "\n",
    "### Context:\n",
    "\n",
    "- Consider a hypercube with bounds \\([-r, r]\\) in a D-dimensional space.\n",
    "- Within this hypercube, there is a hypersphere centered at the origin with radius \\(r\\).\n",
    "\n",
    "**Your Task**:\n",
    "\n",
    "1. Generate \\(N\\) uniform samples from the hypercube \\([-r,r]\\) in the D-dimensional space using [np.random.uniform ](https://numpy.org/doc/stable/reference/random/generated/numpy.random.uniform.html) .\n",
    "2. Determine and show how many of these samples fall within the hypersphere.\n"
   ]
  },
  {
   "cell_type": "code",
   "execution_count": 29,
   "metadata": {
    "id": "DBU-TX3nXq0_"
   },
   "outputs": [],
   "source": [
    "N = 100 #number of points\n",
    "D = 3 #dimensionality\n",
    "r = 0.3 #radius"
   ]
  },
  {
   "cell_type": "code",
   "execution_count": 30,
   "metadata": {
    "id": "tesb-w10SM4_"
   },
   "outputs": [],
   "source": [
    "def generate_cube_sample(N: int, D: int, r: float) -> np.ndarray:\n",
    "    return np.random.uniform(-r,r,(N,D))\n",
    "cube_samples = generate_cube_sample(N, D, r)"
   ]
  },
  {
   "cell_type": "markdown",
   "metadata": {
    "id": "H7m1UAs_YCVH"
   },
   "source": [
    "Check yourself that samples are within given range"
   ]
  },
  {
   "cell_type": "code",
   "execution_count": 31,
   "metadata": {
    "id": "Uwe3xGsdYBqW"
   },
   "outputs": [],
   "source": [
    "assert np.all(cube_samples >= -r) and np.all(cube_samples <= r)"
   ]
  },
  {
   "cell_type": "markdown",
   "metadata": {
    "id": "f7JwvziMZop0"
   },
   "source": [
    "What does this line do?\n",
    "\n",
    "Answer:  \n",
    "It makes sur that the samples are within -r and r. If it is not the case the exectution stops and it returns an error."
   ]
  },
  {
   "cell_type": "markdown",
   "metadata": {
    "id": "qDjd6qnXZvyv"
   },
   "source": [
    "Now how can you verify that a point lies in the sphere with a center in (0, 0) and radius r=0.5?\n",
    "\n",
    "*Hint: use [np.linalg.norm](https://numpy.org/doc/stable/reference/generated/numpy.linalg.norm.html)*"
   ]
  },
  {
   "cell_type": "code",
   "execution_count": 32,
   "metadata": {
    "id": "ytLVcqLRWqe3"
   },
   "outputs": [],
   "source": [
    "point=np.random.rand(2,)\n",
    "r=0.5\n",
    "def is_inside_sphere(point: np.ndarray, r: float) -> bool:\n",
    "  return (np.linalg.norm(point)>=-r and np.linalg.norm(point)<=r)\n"
   ]
  },
  {
   "cell_type": "code",
   "execution_count": 33,
   "metadata": {
    "id": "eEVuw8S0YxgT",
    "scrolled": true
   },
   "outputs": [
    {
     "data": {
      "text/plain": [
       "True"
      ]
     },
     "execution_count": 33,
     "metadata": {},
     "output_type": "execute_result"
    }
   ],
   "source": [
    "#check if the point lies in the sphere with a center in (0, 0) and radius r=0.5?\n",
    "\n",
    "is_inside_sphere(point, r)"
   ]
  },
  {
   "cell_type": "markdown",
   "metadata": {
    "id": "CBFbeyBMajZg"
   },
   "source": [
    "What if we have N=100 points so the array of shape (100,2)? In this case we want to have an answer for each point separately.\n",
    "\n",
    "*Hint: check the axis argument in the function you used for one point.*"
   ]
  },
  {
   "cell_type": "code",
   "execution_count": 34,
   "metadata": {
    "id": "Gq4COT2xaNWx"
   },
   "outputs": [
    {
     "data": {
      "text/plain": [
       "array([[ 0.08609943,  0.41929764,  0.09885098],\n",
       "       [ 0.15622786, -0.29452292,  0.10581845],\n",
       "       [-0.32873265,  0.39346206,  0.45366786],\n",
       "       [-0.06134665,  0.4921351 , -0.17247182],\n",
       "       [ 0.42048248,  0.3321338 , -0.25518788]])"
      ]
     },
     "execution_count": 34,
     "metadata": {},
     "output_type": "execute_result"
    }
   ],
   "source": [
    "points= generate_cube_sample(N, D, r)\n",
    "points[:5]"
   ]
  },
  {
   "cell_type": "code",
   "execution_count": 35,
   "metadata": {
    "id": "kyrur7yjaw73"
   },
   "outputs": [
    {
     "data": {
      "text/plain": [
       "array([ True,  True, False, False, False,  True, False, False,  True,\n",
       "       False, False, False,  True,  True, False, False,  True,  True,\n",
       "       False, False, False, False,  True,  True, False, False,  True,\n",
       "        True, False,  True, False,  True, False, False, False, False,\n",
       "        True,  True,  True,  True, False,  True,  True,  True, False,\n",
       "       False,  True, False, False,  True, False, False, False,  True,\n",
       "        True,  True,  True, False,  True, False, False, False,  True,\n",
       "        True, False,  True, False,  True,  True, False, False,  True,\n",
       "        True, False, False,  True,  True,  True,  True, False,  True,\n",
       "        True,  True,  True,  True, False, False, False, False, False,\n",
       "       False, False,  True, False, False, False,  True, False,  True,\n",
       "       False])"
      ]
     },
     "execution_count": 35,
     "metadata": {},
     "output_type": "execute_result"
    }
   ],
   "source": [
    "def is_inside_sphere(points: np.ndarray, r: float) -> np.ndarray:\n",
    "  return np.array([(np.linalg.norm(points[i])>=-r and np.linalg.norm(points[i])<=r) for i in range(100)])\n",
    "\n",
    "inside_sphere_results = is_inside_sphere(points, r)\n",
    "inside_sphere_results"
   ]
  },
  {
   "cell_type": "markdown",
   "metadata": {
    "id": "N0xH4y7XbftR"
   },
   "source": [
    "How many points are in the sphere?\n",
    "\n",
    "Hint: use [np.sum](https://numpy.org/doc/stable/reference/generated/numpy.sum.html)"
   ]
  },
  {
   "cell_type": "code",
   "execution_count": 36,
   "metadata": {
    "id": "7Qagnj38FAmu"
   },
   "outputs": [],
   "source": [
    "def count_inside_sphere(points: np.ndarray, r: float) -> int:\n",
    "    inside_sphere_flags = is_inside_sphere(points, r)\n",
    "    return np.sum(inside_sphere_flags)"
   ]
  },
  {
   "cell_type": "code",
   "execution_count": 37,
   "metadata": {
    "id": "XyOxHo-tbYbW"
   },
   "outputs": [
    {
     "data": {
      "text/plain": [
       "47"
      ]
     },
     "execution_count": 37,
     "metadata": {},
     "output_type": "execute_result"
    }
   ],
   "source": [
    "#how many points are in the sphere?\n",
    "res = count_inside_sphere(points, r)\n",
    "res"
   ]
  },
  {
   "cell_type": "markdown",
   "metadata": {
    "id": "JqGmgYONb3aH"
   },
   "source": [
    "## Task: Simulation of Samples in Hypersphere vs. Hypercube\n",
    "\n",
    "**Objective**:\n",
    "To simulate and visualize how many samples from a hypercube will fall within an encompassing hypersphere as the dimensionality increases.\n",
    "\n",
    "### Context:\n",
    "\n",
    "- Consider a D-dimensional hypercube with boundaries \\([-r, r]\\).\n",
    "- Within this hypercube, there's a D-dimensional hypersphere centered at the origin with radius \\(r\\).\n",
    "\n",
    "**Specifications**:\n",
    "- Set \\(r = 0.3\\).\n",
    "- Vary the dimensionality \\(D\\) from 1 to 20.\n",
    "- For each dimension, draw samples uniformly from the hypercube and count how many fall inside the hypersphere.\n",
    "\n",
    "**Your Task**:\n",
    "\n",
    "1. Use the provided code to run the simulation.\n",
    "2. Plot the results with the x-axis representing the dimensionality (from 1 to 20) and the y-axis representing the number of samples that fall inside the hypersphere.\n",
    "\n",
    "If everything has been implemented correctly, the provided code should execute without the need for modifications.\n",
    "\n"
   ]
  },
  {
   "cell_type": "code",
   "execution_count": 38,
   "metadata": {
    "id": "lf7Tc6sibytN"
   },
   "outputs": [],
   "source": [
    "r = 0.3\n",
    "N = 1000\n",
    "D_range=range(1,20)\n",
    "samples_in_sphere_list = []\n",
    "for D in D_range:\n",
    "  cube_samples = generate_cube_sample(N, D, r)\n",
    "  samples_in_sphere = count_inside_sphere(cube_samples, r)\n",
    "  samples_in_sphere_list.append(samples_in_sphere)"
   ]
  },
  {
   "cell_type": "code",
   "execution_count": 39,
   "metadata": {
    "id": "rVu9jfZUdNPl"
   },
   "outputs": [
    {
     "data": {
      "text/plain": [
       "Text(0, 0.5, 'Samples in the sphere')"
      ]
     },
     "execution_count": 39,
     "metadata": {},
     "output_type": "execute_result"
    },
    {
     "data": {
      "image/png": "[encoded data removed]",
      "text/plain": [
       "<Figure size 640x480 with 1 Axes>"
      ]
     },
     "metadata": {},
     "output_type": "display_data"
    }
   ],
   "source": [
    "plt.plot(D_range,samples_in_sphere_list)\n",
    "plt.xlabel(\"Dimensionality\")\n",
    "plt.ylabel(\"Samples in the sphere\")"
   ]
  },
  {
   "cell_type": "markdown",
   "metadata": {
    "id": "xXZLGZbqBQPv"
   },
   "source": [
    "# **Problem 3: Concentration of Angles** (Slides 20-22)\n",
    "\n",
    "**Objective**:\n",
    "To investigate the expected angle between vectors drawn from a D-dimensional space.\n",
    "\n",
    "### Context:\n",
    "\n",
    "As the dimensionality of a space increases, the angles between randomly drawn vectors from that space exhibit interesting behaviors. This task aims to explore this phenomenon.\n",
    "\n",
    "## Tasks:\n",
    "\n",
    "1. Draw random vectors from a D-dimensional space.\n",
    "2. Compute the angle between these vectors.\n",
    "3. Analyze the distribution of these angles as \\(D\\) varies. What do you observe about the expected angle?\n",
    "\n",
    "Refer to slides 20-22 for relevant background information and insights. Implement your solution and share your findings.\n",
    "\n"
   ]
  },
  {
   "cell_type": "markdown",
   "metadata": {
    "id": "uF3YPY3wGC6L"
   },
   "source": [
    "First, accomplish this functions:"
   ]
  },
  {
   "cell_type": "code",
   "execution_count": 40,
   "metadata": {
    "id": "zY4QvCLQ_Zoo"
   },
   "outputs": [],
   "source": [
    "def generate_points(D):\n",
    "  X = np.random.rand(D,)\n",
    "  Y = np.random.rand(D,)\n",
    "  Z = np.random.rand(D,)\n",
    "  W = np.random.rand(D,)\n",
    "  return X, Y, Z, W\n",
    "\n",
    "def compute_cos(a, b):\n",
    "  cos = np.dot(a,b)/(np.linalg.norm(a)*np.linalg.norm(b))\n",
    "  return cos"
   ]
  },
  {
   "cell_type": "markdown",
   "metadata": {
    "id": "y80I8W2jL__e"
   },
   "source": [
    "Second, verify how cos of the angle between two random vectors. For defining two vectors we sample 4 random points.\n",
    "\n",
    "$$a = X - Y$$\n",
    "$$b = W - Z$$"
   ]
  },
  {
   "cell_type": "code",
   "execution_count": 41,
   "metadata": {
    "id": "mrUEGP1fCAcY"
   },
   "outputs": [],
   "source": [
    "N = 100\n",
    "means_cos = []\n",
    "D_range=range(5,1000)\n",
    "for D in D_range:\n",
    "  sum_cos = 0\n",
    "  for _ in range(N):\n",
    "    X, Y, Z, W = generate_points(D)\n",
    "    a = X - Y\n",
    "    b = W - Z\n",
    "    cos_value = compute_cos(a, b)\n",
    "    sum_cos += cos_value\n",
    "  mean_cos = sum_cos/N\n",
    "  means_cos.append(mean_cos)"
   ]
  },
  {
   "cell_type": "code",
   "execution_count": 42,
   "metadata": {
    "id": "gotAGUcyDOOh"
   },
   "outputs": [
    {
     "data": {
      "text/plain": [
       "Text(0, 0.5, 'cos')"
      ]
     },
     "execution_count": 42,
     "metadata": {},
     "output_type": "execute_result"
    },
    {
     "data": {
      "image/png": "[encoded data removed]",
      "text/plain": [
       "<Figure size 640x480 with 1 Axes>"
      ]
     },
     "metadata": {},
     "output_type": "display_data"
    }
   ],
   "source": [
    "plt.plot(D_range, means_cos)\n",
    "plt.xlabel(\"Dimension\")\n",
    "plt.ylabel(\"cos\")"
   ]
  },
  {
   "cell_type": "markdown",
   "metadata": {
    "id": "oXNlT7SFM920"
   },
   "source": [
    "Now, verify the angle between vectors which form a triangle $X, Y, Z$."
   ]
  },
  {
   "cell_type": "code",
   "execution_count": 43,
   "metadata": {
    "id": "y7_bFTy9DyB2"
   },
   "outputs": [],
   "source": [
    "N = 100\n",
    "means_cos = []\n",
    "D_range=range(5,1000)\n",
    "for D in D_range:\n",
    "  sum_cos = 0\n",
    "  for _ in range(N):\n",
    "    X, Y, Z, W = generate_points(D)\n",
    "    a = X - Y\n",
    "    b = W-Z\n",
    "    cos = compute_cos(a, b)\n",
    "    sum_cos += cos\n",
    "  mean_cos = sum_cos/N\n",
    "  means_cos.append(mean_cos)"
   ]
  },
  {
   "cell_type": "code",
   "execution_count": 44,
   "metadata": {
    "id": "fGUFm4_1F108"
   },
   "outputs": [
    {
     "data": {
      "text/plain": [
       "Text(0, 0.5, 'cos')"
      ]
     },
     "execution_count": 44,
     "metadata": {},
     "output_type": "execute_result"
    },
    {
     "data": {
      "image/png": "[encoded data removed]",
      "text/plain": [
       "<Figure size 640x480 with 1 Axes>"
      ]
     },
     "metadata": {},
     "output_type": "display_data"
    }
   ],
   "source": [
    "plt.plot(D_range, means_cos)\n",
    "plt.xlabel(\"Dimension\")\n",
    "plt.ylabel(\"cos\")"
   ]
  },
  {
   "cell_type": "code",
   "execution_count": null,
   "metadata": {},
   "outputs": [],
   "source": []
  }
 ],
 "metadata": {
  "colab": {
   "provenance": []
  },
  "kernelspec": {
   "display_name": "Python 3 (ipykernel)",
   "language": "python",
   "name": "python3"
  },
  "language_info": {
   "codemirror_mode": {
    "name": "ipython",
    "version": 3
   },
   "file_extension": ".py",
   "mimetype": "text/x-python",
   "name": "python",
   "nbconvert_exporter": "python",
   "pygments_lexer": "ipython3",
   "version": "3.11.4"
  }
 },
 "nbformat": 4,
 "nbformat_minor": 4
}
