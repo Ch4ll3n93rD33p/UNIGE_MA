{
 "cells": [
  {
   "cell_type": "markdown",
   "metadata": {},
   "source": [
    "Lea Heiniger  \n",
    "Metaheuristics for optimization  \n",
    "19.09.2022  \n",
    "# Stochastic processes\n"
   ]
  },
  {
   "cell_type": "code",
   "execution_count": 1,
   "metadata": {},
   "outputs": [],
   "source": [
    "import numpy as np\n",
    "import math\n",
    "from random import random\n",
    "from copy import copy\n",
    "import matplotlib.pyplot as plt"
   ]
  },
  {
   "cell_type": "markdown",
   "metadata": {},
   "source": [
    "We define a function _frequency_ that will be usefull in the rest of the TP."
   ]
  },
  {
   "cell_type": "code",
   "execution_count": 2,
   "metadata": {},
   "outputs": [],
   "source": [
    "def frequency(events, n) :\n",
    "    '''\n",
    "    Function computing the frequency of each events\n",
    "\n",
    "    Parameters :\n",
    "     events -> dictionary containig the events and theire occurencies\n",
    "     n -> number of events generated\n",
    "\n",
    "     Returning :\n",
    "      freq -> dictionary contaning the events and theire frequencys\n",
    "     '''\n",
    "    freq = {}\n",
    "    for i in events :\n",
    "        freq[i] = events[i]/n\n",
    "    return freq"
   ]
  },
  {
   "cell_type": "markdown",
   "metadata": {},
   "source": [
    "- **Simulation of a balanced dice**  \n",
    "We defin a function _balancedDice_ that will simulate a N-faced balanced dice (each face has a probability 1/N)"
   ]
  },
  {
   "cell_type": "code",
   "execution_count": 3,
   "metadata": {},
   "outputs": [],
   "source": [
    "def balancedDice(N) :\n",
    "    '''\n",
    "    Function simulating the roll of a balanced dice\n",
    "\n",
    "    Parameters :\n",
    "     N -> number of faces on the dice\n",
    "\n",
    "    Returning :\n",
    "     The face obtained\n",
    "    '''\n",
    "    return math.floor(N*random())+1"
   ]
  },
  {
   "cell_type": "markdown",
   "metadata": {},
   "source": [
    "We use this function to simulate 1000000 rolls of a 6-faced ballanced dice."
   ]
  },
  {
   "cell_type": "code",
   "execution_count": 4,
   "metadata": {},
   "outputs": [
    {
     "data": {
      "image/png": "[encoded data removed]",
      "text/plain": [
       "<Figure size 640x480 with 1 Axes>"
      ]
     },
     "metadata": {},
     "output_type": "display_data"
    },
    {
     "data": {
      "text/plain": [
       "{'1': 0.166918,\n",
       " '2': 0.165945,\n",
       " '3': 0.166298,\n",
       " '4': 0.166908,\n",
       " '5': 0.167171,\n",
       " '6': 0.16676}"
      ]
     },
     "execution_count": 4,
     "metadata": {},
     "output_type": "execute_result"
    }
   ],
   "source": [
    "N = 6 #number of faces on the dice\n",
    "\n",
    "n = 1000000 #number of rolls\n",
    "\n",
    "\n",
    "rolls = {} #dictionary to count the occurrence of each face\n",
    "for i in range(N) :\n",
    "    rolls[str(i+1)] = 0\n",
    "\n",
    "# We simulate n rolls\n",
    "for r in range(n) :\n",
    "    res = balancedDice(N)\n",
    "    rolls[str(res)] += 1\n",
    "\n",
    "# We compute the frequency of each face\n",
    "freq = frequency(rolls, n)\n",
    "\n",
    "plt.hist(rolls, bins=6)  # arguments are passed to np.histogram\n",
    "\n",
    "plt.show()\n",
    "\n",
    "freq"
   ]
  },
  {
   "cell_type": "markdown",
   "metadata": {},
   "source": [
    "We can see on the histogram and the frequencies that each face is equiprobable.  \n",
    "If the dice was unballanced the histogram would not have all values at the same level, the values with the bigest probability would apear higher than the ones with a lower probability."
   ]
  },
  {
   "cell_type": "markdown",
   "metadata": {},
   "source": [
    "- **Simulation of a biased coin toss**  \n",
    "We define a function _biasedCoin_ that will simulate a biased coin with a probability P to obtain head based on the formula lambda = floor(r+P). lambda will be 1 with a probability P and 0 with a probability P-1.\n"
   ]
  },
  {
   "cell_type": "code",
   "execution_count": 5,
   "metadata": {},
   "outputs": [],
   "source": [
    "def biasedCoin(P) :\n",
    "    '''\n",
    "    Function simulating the toss of a biased coin\n",
    "\n",
    "    Parameters :\n",
    "     P -> the probability of obtaining tail\n",
    "\n",
    "    Returning :\n",
    "     0 for tail and 1 for head\n",
    "    '''\n",
    "    return math.floor(random()+P)"
   ]
  },
  {
   "cell_type": "markdown",
   "metadata": {},
   "source": [
    "Now we want to check if the function simulates correctly the biased coin. We simulate 1000000 toss with a probability P = 0.7 of obtaining head and we compute the frequency of each side."
   ]
  },
  {
   "cell_type": "code",
   "execution_count": 6,
   "metadata": {},
   "outputs": [
    {
     "data": {
      "text/plain": [
       "{'head': 0.70103, 'tail': 0.29897}"
      ]
     },
     "execution_count": 6,
     "metadata": {},
     "output_type": "execute_result"
    }
   ],
   "source": [
    "\n",
    "P = 0.7 #probability of obtaining head\n",
    "\n",
    "n = 1000000 #number of tosses\n",
    "\n",
    "# We simulate n toss\n",
    "toss = {\"head\":0, \"tail\":0} #dictionary to count the occurrences of tail and head\n",
    "for r in range(n) :\n",
    "    res = biasedCoin(P)\n",
    "\n",
    "    if res == 0 :\n",
    "        toss[\"tail\"] += 1\n",
    "    else :\n",
    "        toss[\"head\"] += 1\n",
    "\n",
    "# We compute the frequencys of tail and head\n",
    "freq = frequency(toss, n)\n",
    "freq"
   ]
  },
  {
   "cell_type": "markdown",
   "metadata": {},
   "source": [
    "We can see that the frequencies obtained match with the chosen probabilities"
   ]
  },
  {
   "cell_type": "markdown",
   "metadata": {},
   "source": [
    "- **Simulation of a double biased coin toss**  \n",
    "We defin a function _doubleBiasedCoins_ that simulate a double coin toss based on the function _biasedCoin_ with a probability P1 of obtaining head for the first coin and P2 for the second."
   ]
  },
  {
   "cell_type": "code",
   "execution_count": 7,
   "metadata": {},
   "outputs": [],
   "source": [
    "def doubleBiasedCoins(P1,P2) :\n",
    "    '''\n",
    "    Function simulating the toss of two biased coins\n",
    "\n",
    "    Parameters :\n",
    "     P1 -> the probability of obtaining head for the first coin\n",
    "     P2 -> the probability of obtaining head for the second coin\n",
    "\n",
    "    Returning :\n",
    "     a tuple (res1, res2) with values 1 for head and 0 for tail\n",
    "    '''\n",
    "    res1 = biasedCoin(P1)\n",
    "    res2 = biasedCoin(P2)\n",
    "\n",
    "    return (res1, res2)"
   ]
  },
  {
   "cell_type": "markdown",
   "metadata": {},
   "source": [
    "We simulate 1000000 double toss with probabilities P1=0.7 and P2=0.2."
   ]
  },
  {
   "cell_type": "code",
   "execution_count": 8,
   "metadata": {},
   "outputs": [
    {
     "data": {
      "text/plain": [
       "{'head-head': 0.140356,\n",
       " 'head-tail': 0.559941,\n",
       " 'tail-head': 0.059866,\n",
       " 'tail-tail': 0.239837}"
      ]
     },
     "execution_count": 8,
     "metadata": {},
     "output_type": "execute_result"
    }
   ],
   "source": [
    "P1 = 0.7 #probability of obtaining head for the first coin\n",
    "P2 = 0.2 #probability of obtaining head for the second coin\n",
    "\n",
    "n = 1000000 #number of tosses\n",
    "\n",
    "# We simulate n toss\n",
    "toss = {\"head-head\":0, \"head-tail\":0, \"tail-head\":0, \"tail-tail\":0} #dictionary to count the occurrences of tail and head\n",
    "for r in range(n) :\n",
    "    res1, res2 = doubleBiasedCoins(P1, P2)\n",
    "\n",
    "    if res1 == 0 :\n",
    "        if res2 == 0 :\n",
    "            toss[\"tail-tail\"] += 1\n",
    "        else :\n",
    "            toss[\"tail-head\"] += 1\n",
    "    else :\n",
    "        if res2 == 0 :\n",
    "            toss[\"head-tail\"] += 1\n",
    "        else :\n",
    "            toss[\"head-head\"] += 1\n",
    "\n",
    "# We compute the frequencys of tail and head\n",
    "freq = frequency(toss, n)\n",
    "freq"
   ]
  },
  {
   "cell_type": "markdown",
   "metadata": {},
   "source": [
    "From these combined frequencies we compute the frequency for each side of the coins."
   ]
  },
  {
   "cell_type": "code",
   "execution_count": 9,
   "metadata": {},
   "outputs": [
    {
     "name": "stdout",
     "output_type": "stream",
     "text": [
      "for coin 1 :  {'head': 0.7002970000000001, 'tail': 0.299703}\n",
      "for coin 2 :  {'head': 0.200222, 'tail': 0.799778}\n"
     ]
    }
   ],
   "source": [
    "freq1 = {\"head\":freq[\"head-head\"]+freq[\"head-tail\"], \"tail\":freq[\"tail-head\"]+freq[\"tail-tail\"]}\n",
    "freq2 = {\"head\":freq[\"head-head\"]+freq[\"tail-head\"], \"tail\":freq[\"head-tail\"]+freq[\"tail-tail\"]}\n",
    "\n",
    "print(\"for coin 1 : \", freq1)\n",
    "print(\"for coin 2 : \", freq2)\n"
   ]
  },
  {
   "cell_type": "markdown",
   "metadata": {},
   "source": [
    "We can see that the freqiencies for both coins are respected."
   ]
  },
  {
   "cell_type": "markdown",
   "metadata": {},
   "source": [
    "- **Roulette method**  \n",
    "We define a function _rouletteMethod_ that implements the roulette method."
   ]
  },
  {
   "cell_type": "code",
   "execution_count": 10,
   "metadata": {},
   "outputs": [],
   "source": [
    "def rouletteMethod(P) :\n",
    "    '''\n",
    "    Function implementing the roulette method\n",
    "\n",
    "    Parameters :\n",
    "     P -> the probability of obtaining each event\n",
    "\n",
    "    Returning :\n",
    "     The event obtained\n",
    "    '''\n",
    "    Pcumul = [sum(P[0:x:1]) for x in range(0, len(P)+1)]\n",
    "    Pcumul.pop(0)\n",
    "    r = random()\n",
    "    for i in range(len(Pcumul)) :\n",
    "\n",
    "        if Pcumul[i] > r :\n",
    "\n",
    "            return i"
   ]
  },
  {
   "cell_type": "markdown",
   "metadata": {},
   "source": [
    "We check if the frequency obtained for 1000000 simulations matches the chosen probabilities P."
   ]
  },
  {
   "cell_type": "code",
   "execution_count": 11,
   "metadata": {},
   "outputs": [
    {
     "data": {
      "text/plain": [
       "{'0': 0.249775,\n",
       " '1': 0.250762,\n",
       " '2': 0.24922,\n",
       " '3': 0.124985,\n",
       " '4': 0.06282,\n",
       " '5': 0.062438}"
      ]
     },
     "execution_count": 11,
     "metadata": {},
     "output_type": "execute_result"
    }
   ],
   "source": [
    "N = 6 #number of possible events\n",
    "P = [0.25, 0.25, 0.25, 0.125, 0.0625, 0.0625] #probability of obtaining each event\n",
    "\n",
    "n = 1000000 #number of try\n",
    "\n",
    "events = {} #dictionary to count the occurrence of each event\n",
    "for i in range(N) :\n",
    "    events[str(i)] = 0\n",
    "\n",
    "# We generate n times events\n",
    "for r in range(n) :\n",
    "    res = rouletteMethod(P)\n",
    "    events[str(res)] += 1\n",
    "\n",
    "# We compute the frequency of each event\n",
    "freq = frequency(events, n)\n",
    "freq"
   ]
  },
  {
   "cell_type": "markdown",
   "metadata": {},
   "source": [
    "We can see that the chosen probabilities are respected."
   ]
  }
 ],
 "metadata": {
  "kernelspec": {
   "display_name": "Python 3 (ipykernel)",
   "language": "python",
   "name": "python3"
  },
  "language_info": {
   "codemirror_mode": {
    "name": "ipython",
    "version": 3
   },
   "file_extension": ".py",
   "mimetype": "text/x-python",
   "name": "python",
   "nbconvert_exporter": "python",
   "pygments_lexer": "ipython3",
   "version": "3.10.6"
  },
  "vscode": {
   "interpreter": {
    "hash": "31f2aee4e71d21fbe5cf8b01ff0e069b9275f58929596ceb00d14d90e3e16cd6"
   }
  }
 },
 "nbformat": 4,
 "nbformat_minor": 4
}
