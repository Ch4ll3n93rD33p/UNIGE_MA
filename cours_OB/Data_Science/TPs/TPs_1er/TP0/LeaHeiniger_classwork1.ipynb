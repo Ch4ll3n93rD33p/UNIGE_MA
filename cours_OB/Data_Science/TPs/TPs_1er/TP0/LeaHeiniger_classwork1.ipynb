{
 "cells": [
  {
   "attachments": {},
   "cell_type": "markdown",
   "metadata": {
    "id": "zOaqjlM7wRs0"
   },
   "source": [
    "Léa Heiniger  \n",
    "29.09.2022 \n",
    "\n",
    "# Data Science Classwork - Seminar 1"
   ]
  },
  {
   "cell_type": "code",
   "execution_count": 1,
   "metadata": {
    "colab": {
     "base_uri": "https://localhost:8080/"
    },
    "id": "j48cPoYFMGrH",
    "outputId": "21237a16-b76c-4278-9210-2a4f2cc5c534"
   },
   "outputs": [
    {
     "name": "stdout",
     "output_type": "stream",
     "text": [
      "Hello world!\n"
     ]
    }
   ],
   "source": [
    "print(\"Hello world!\")"
   ]
  },
  {
   "cell_type": "code",
   "execution_count": 2,
   "metadata": {
    "id": "FPwDd_dpNbUO"
   },
   "outputs": [],
   "source": [
    "import numpy as np"
   ]
  },
  {
   "cell_type": "markdown",
   "metadata": {
    "id": "QNAG_D5ONR8O"
   },
   "source": [
    "Numpy is a library which you will use a lot during your Python practice."
   ]
  },
  {
   "cell_type": "code",
   "execution_count": 3,
   "metadata": {
    "colab": {
     "base_uri": "https://localhost:8080/"
    },
    "id": "mSnUlHbPNsIM",
    "outputId": "381140e6-e8f9-4848-ddb8-342b8db4b157"
   },
   "outputs": [
    {
     "data": {
      "text/plain": [
       "array([2, 5])"
      ]
     },
     "execution_count": 3,
     "metadata": {},
     "output_type": "execute_result"
    }
   ],
   "source": [
    "a=np.array(range(2,8,3))\n",
    "a"
   ]
  },
  {
   "cell_type": "code",
   "execution_count": 4,
   "metadata": {
    "colab": {
     "base_uri": "https://localhost:8080/"
    },
    "id": "U7xeyvu5N0IB",
    "outputId": "c443bb6f-55b2-4e1b-9459-4e0acbdb8b9f"
   },
   "outputs": [
    {
     "data": {
      "text/plain": [
       "(2,)"
      ]
     },
     "execution_count": 4,
     "metadata": {},
     "output_type": "execute_result"
    }
   ],
   "source": [
    "a.shape"
   ]
  },
  {
   "cell_type": "code",
   "execution_count": 5,
   "metadata": {
    "colab": {
     "base_uri": "https://localhost:8080/"
    },
    "id": "RC4Krb3WN1Va",
    "outputId": "f20b8cd3-b2b8-4ea1-b5c2-7c58c39404c4"
   },
   "outputs": [
    {
     "data": {
      "text/plain": [
       "array([[2],\n",
       "       [5]])"
      ]
     },
     "execution_count": 5,
     "metadata": {},
     "output_type": "execute_result"
    }
   ],
   "source": [
    "a=a.reshape(-1,1)\n",
    "a"
   ]
  },
  {
   "cell_type": "code",
   "execution_count": 6,
   "metadata": {
    "colab": {
     "base_uri": "https://localhost:8080/"
    },
    "id": "C4tZmC1cN70V",
    "outputId": "8efa5c50-429b-4460-d100-9f3be1fee90a"
   },
   "outputs": [
    {
     "data": {
      "text/plain": [
       "(2, 1)"
      ]
     },
     "execution_count": 6,
     "metadata": {},
     "output_type": "execute_result"
    }
   ],
   "source": [
    "a.shape"
   ]
  },
  {
   "cell_type": "code",
   "execution_count": 7,
   "metadata": {
    "colab": {
     "base_uri": "https://localhost:8080/"
    },
    "id": "E_QhbNO1N829",
    "outputId": "6bd2f723-789a-45f7-de15-47e9eeb1ae31"
   },
   "outputs": [
    {
     "data": {
      "text/plain": [
       "array([[2, 5]])"
      ]
     },
     "execution_count": 7,
     "metadata": {},
     "output_type": "execute_result"
    }
   ],
   "source": [
    "a.T"
   ]
  },
  {
   "cell_type": "code",
   "execution_count": 8,
   "metadata": {
    "colab": {
     "base_uri": "https://localhost:8080/"
    },
    "id": "mMa1beKuN-Gl",
    "outputId": "9cbbb57d-a2a8-4468-c80a-3f113880aef4"
   },
   "outputs": [
    {
     "data": {
      "text/plain": [
       "(1, 2)"
      ]
     },
     "execution_count": 8,
     "metadata": {},
     "output_type": "execute_result"
    }
   ],
   "source": [
    "a.T.shape"
   ]
  },
  {
   "cell_type": "code",
   "execution_count": 9,
   "metadata": {
    "colab": {
     "base_uri": "https://localhost:8080/"
    },
    "id": "iEgcPQ8vOAEs",
    "outputId": "06fbdec4-351f-4fe1-a5b6-e7f90c1dd4ef"
   },
   "outputs": [
    {
     "data": {
      "text/plain": [
       "array([[ 4, 10],\n",
       "       [10, 25]])"
      ]
     },
     "execution_count": 9,
     "metadata": {},
     "output_type": "execute_result"
    }
   ],
   "source": [
    "a.T*a"
   ]
  },
  {
   "cell_type": "code",
   "execution_count": 10,
   "metadata": {
    "colab": {
     "base_uri": "https://localhost:8080/"
    },
    "id": "MumUCuU3OEaB",
    "outputId": "c94d7f10-cf97-4d43-ea91-832e9b2c299e"
   },
   "outputs": [
    {
     "data": {
      "text/plain": [
       "array([[29]])"
      ]
     },
     "execution_count": 10,
     "metadata": {},
     "output_type": "execute_result"
    }
   ],
   "source": [
    "a.T @ a"
   ]
  },
  {
   "cell_type": "markdown",
   "metadata": {
    "id": "kZjPilogMONo"
   },
   "source": [
    "**Vectors using numpy**\n",
    "\n",
    "Create vectors of a given shape (5,1) using [np.ones](https://numpy.org/doc/stable/reference/generated/numpy.ones.html), [np.zeros](https://numpy.org/doc/stable/reference/generated/numpy.zeros.html) and [np.random.rand](https://numpy.org/doc/stable/reference/random/generated/numpy.random.rand.html)\n"
   ]
  },
  {
   "cell_type": "code",
   "execution_count": 11,
   "metadata": {
    "id": "0pygmfNdMNkG"
   },
   "outputs": [],
   "source": [
    "shape = (5,1)"
   ]
  },
  {
   "cell_type": "code",
   "execution_count": 12,
   "metadata": {
    "colab": {
     "base_uri": "https://localhost:8080/"
    },
    "id": "hMOnnyj3MaqV",
    "outputId": "315fc4df-8eb9-4d42-87c4-78180a215d09"
   },
   "outputs": [
    {
     "data": {
      "text/plain": [
       "array([[1.],\n",
       "       [1.],\n",
       "       [1.],\n",
       "       [1.],\n",
       "       [1.]])"
      ]
     },
     "execution_count": 12,
     "metadata": {},
     "output_type": "execute_result"
    }
   ],
   "source": [
    "#ones\n",
    "vectors = np.ones(shape)\n",
    "vectors"
   ]
  },
  {
   "cell_type": "code",
   "execution_count": 13,
   "metadata": {
    "colab": {
     "base_uri": "https://localhost:8080/"
    },
    "id": "QG2KIBN6MeCl",
    "outputId": "519ff292-2801-42fc-a82b-592fd599a9ca"
   },
   "outputs": [
    {
     "data": {
      "text/plain": [
       "array([[0.],\n",
       "       [0.],\n",
       "       [0.],\n",
       "       [0.],\n",
       "       [0.]])"
      ]
     },
     "execution_count": 13,
     "metadata": {},
     "output_type": "execute_result"
    }
   ],
   "source": [
    "#zeros\n",
    "vectors = np.zeros(shape)\n",
    "vectors"
   ]
  },
  {
   "cell_type": "code",
   "execution_count": 14,
   "metadata": {
    "colab": {
     "base_uri": "https://localhost:8080/"
    },
    "id": "Uzr97n6EMpT-",
    "outputId": "e89daba9-12fa-4fd4-d27e-a0d590ba71c9"
   },
   "outputs": [
    {
     "data": {
      "text/plain": [
       "array([[0.06367993],\n",
       "       [0.73824995],\n",
       "       [0.85823271],\n",
       "       [0.36816833],\n",
       "       [0.50667316]])"
      ]
     },
     "execution_count": 14,
     "metadata": {},
     "output_type": "execute_result"
    }
   ],
   "source": [
    "#random\n",
    "vectors = np.random.rand(5,1)\n",
    "vectors"
   ]
  },
  {
   "cell_type": "markdown",
   "metadata": {
    "id": "uoMzsA27OVCs"
   },
   "source": [
    "**Represantation space with data vectors** (slides 8-9)\n",
    "\n",
    "The D-dimensional space is divided into equivalent bins.\n",
    "Show that the probability to have a not empty bin decreases while dimentionality rises. "
   ]
  },
  {
   "cell_type": "code",
   "execution_count": 15,
   "metadata": {
    "colab": {
     "base_uri": "https://localhost:8080/"
    },
    "id": "CvuKLpohQIdo",
    "outputId": "ab37f657-e89d-4739-8248-7901f04c6cd8"
   },
   "outputs": [
    {
     "data": {
      "text/plain": [
       "5000"
      ]
     },
     "execution_count": 15,
     "metadata": {},
     "output_type": "execute_result"
    }
   ],
   "source": [
    "b = 10 #bins\n",
    "n = 5 #samples per bim we want\n",
    "D = 3 #representation space dimensionality\n",
    "\n",
    "# To find out L, refer to the lectures\n",
    "L = n*(b**D)#vectors we need to genenrate to have n sampels per bin\n",
    "L"
   ]
  },
  {
   "cell_type": "code",
   "execution_count": 16,
   "metadata": {
    "id": "6VT2l07BMrzN"
   },
   "outputs": [],
   "source": [
    "shape=(L, D)"
   ]
  },
  {
   "cell_type": "markdown",
   "metadata": {
    "id": "vy2hegbtK3QM"
   },
   "source": [
    "Generate X as random matrix of a given shape"
   ]
  },
  {
   "cell_type": "code",
   "execution_count": 17,
   "metadata": {
    "colab": {
     "base_uri": "https://localhost:8080/"
    },
    "id": "9H-Z8GHsOdiI",
    "outputId": "285a41c7-71a0-47ce-ebca-99b8e735e4c7"
   },
   "outputs": [
    {
     "data": {
      "text/plain": [
       "array([[0.28478621, 0.67991434, 0.81163179],\n",
       "       [0.86620327, 0.96408913, 0.31478527],\n",
       "       [0.72915779, 0.6705772 , 0.02514662],\n",
       "       [0.85255095, 0.07314783, 0.82236418],\n",
       "       [0.71090314, 0.55419853, 0.8490974 ],\n",
       "       [0.45452644, 0.75132173, 0.52234015]])"
      ]
     },
     "execution_count": 17,
     "metadata": {},
     "output_type": "execute_result"
    }
   ],
   "source": [
    "X = np.random.rand(L,D)\n",
    "X[:6]"
   ]
  },
  {
   "cell_type": "markdown",
   "metadata": {
    "id": "ZW8qbA0YW0dh"
   },
   "source": [
    "Using [np.histogramdd](https://numpy.org/doc/stable/reference/generated/numpy.histogramdd.html) make a D-dimensional histogram for bins=b. It should return an array of size (b, b, ..., b) where each element is equal to number of samples in the bin."
   ]
  },
  {
   "cell_type": "code",
   "execution_count": 18,
   "metadata": {
    "id": "0fzPGehtOfB5"
   },
   "outputs": [],
   "source": [
    "h, _ = np.histogramdd(X)"
   ]
  },
  {
   "cell_type": "code",
   "execution_count": 19,
   "metadata": {
    "id": "hJ1ph5n8S9Wh"
   },
   "outputs": [],
   "source": [
    "assert h.shape == (10, 10, 10)"
   ]
  },
  {
   "cell_type": "code",
   "execution_count": 20,
   "metadata": {
    "colab": {
     "base_uri": "https://localhost:8080/"
    },
    "id": "49xlaOwSS_pf",
    "outputId": "6ccd978d-53b0-4b43-ad86-540caeb95def"
   },
   "outputs": [
    {
     "data": {
      "text/plain": [
       "array([[ 5., 10.,  2.,  7.,  6.,  6.,  3.,  8.,  4.,  7.],\n",
       "       [ 4.,  5.,  4.,  8.,  4.,  5.,  4.,  7.,  3.,  6.],\n",
       "       [12.,  5.,  6.,  4.,  4.,  6.,  5.,  4.,  7., 10.],\n",
       "       [ 3.,  3., 11.,  3.,  7.,  5.,  8.,  8.,  6.,  4.],\n",
       "       [ 4.,  7., 10.,  4.,  5.,  9.,  4.,  3.,  6.,  4.],\n",
       "       [ 5.,  3.,  5.,  2.,  5.,  4.,  7.,  5.,  6.,  1.],\n",
       "       [ 4.,  6.,  5.,  2.,  4.,  5.,  6.,  3.,  3.,  7.],\n",
       "       [ 3.,  1.,  9.,  6.,  2.,  7.,  7.,  5., 10.,  7.],\n",
       "       [ 7.,  4.,  9.,  7.,  5.,  4.,  6.,  8.,  2.,  4.],\n",
       "       [ 3.,  4.,  6.,  5.,  4.,  7.,  5.,  6.,  8.,  2.]])"
      ]
     },
     "execution_count": 20,
     "metadata": {},
     "output_type": "execute_result"
    }
   ],
   "source": [
    "h[0]"
   ]
  },
  {
   "cell_type": "code",
   "execution_count": 21,
   "metadata": {
    "id": "btz9djtzPMJ3"
   },
   "outputs": [],
   "source": [
    "D_range = range(1,8)\n",
    "h_values = []\n",
    "N = L\n",
    "for D in D_range:\n",
    "  shape=(N, D)\n",
    "  X = np.random.rand(N, D)\n",
    "  h, _ = np.histogramdd(X)\n",
    "  h_mean = np.mean(h)\n",
    "  p = h_mean/N\n",
    "  h_values.append(h_mean)"
   ]
  },
  {
   "cell_type": "code",
   "execution_count": 22,
   "metadata": {
    "id": "IJ6fHeSQRc2B"
   },
   "outputs": [],
   "source": [
    "import matplotlib.pyplot as plt"
   ]
  },
  {
   "cell_type": "code",
   "execution_count": 23,
   "metadata": {
    "colab": {
     "base_uri": "https://localhost:8080/",
     "height": 296
    },
    "id": "_rw4Pkg4SI83",
    "outputId": "bd9ae0e3-4980-4641-8515-fc60ad30093e"
   },
   "outputs": [
    {
     "data": {
      "text/plain": [
       "Text(0, 0.5, 'Average sample in the bin')"
      ]
     },
     "execution_count": 23,
     "metadata": {},
     "output_type": "execute_result"
    },
    {
     "data": {
      "image/png": "[encoded data removed]",
      "text/plain": [
       "<Figure size 640x480 with 1 Axes>"
      ]
     },
     "metadata": {},
     "output_type": "display_data"
    }
   ],
   "source": [
    "plt.plot(D_range, h_values)\n",
    "plt.xlabel(\"Dimensionality\")\n",
    "plt.ylabel(\"Average sample in the bin\")"
   ]
  },
  {
   "cell_type": "markdown",
   "metadata": {
    "id": "UxpmVS7oWORC"
   },
   "source": [
    "**Hypersphere and hypercube** (slides 10-11)\n",
    "\n",
    "Hypercube [-r, r] in D dimensional space. We draw N points uniformly from it. Show how many points will fall in the hypersphere which center is in the origin and radius is r.\n",
    "\n",
    "Generate N uniform samples from hypercube [-r,r] in D-dimensional space using [np.random.uniform ](https://numpy.org/doc/stable/reference/random/generated/numpy.random.uniform.html)"
   ]
  },
  {
   "cell_type": "code",
   "execution_count": 24,
   "metadata": {
    "id": "DBU-TX3nXq0_"
   },
   "outputs": [],
   "source": [
    "N = 100\n",
    "D = 3\n",
    "r = 0.3"
   ]
  },
  {
   "cell_type": "code",
   "execution_count": 28,
   "metadata": {
    "id": "tesb-w10SM4_"
   },
   "outputs": [
    {
     "data": {
      "text/plain": [
       "array([ 2.71996959e-01,  2.74883153e-01, -1.12548080e-01, -1.25185458e-01,\n",
       "        1.50738272e-01, -3.75105345e-02,  5.29330027e-02,  2.73086486e-01,\n",
       "        4.51856746e-02, -2.18721895e-01, -6.37407356e-02, -1.71187125e-01,\n",
       "        2.81861928e-01,  9.34705244e-02, -7.18599559e-03, -2.20861432e-02,\n",
       "        1.51899552e-02, -2.33385033e-01, -1.12388162e-01,  1.31003301e-01,\n",
       "        2.54114181e-01, -1.34300952e-01, -9.95598343e-02,  2.58938923e-01,\n",
       "        2.76046852e-01,  1.36792372e-01, -4.96079047e-02, -1.77344209e-01,\n",
       "       -2.43950923e-01, -2.26989804e-01,  1.58442924e-02,  1.65457863e-01,\n",
       "        2.95905017e-01,  2.23411524e-01,  1.09683050e-01,  2.70688898e-01,\n",
       "        9.72644219e-02, -2.86063827e-02,  1.47050319e-01,  2.10577825e-01,\n",
       "       -2.44800110e-01, -2.68299353e-01, -1.13226148e-01, -9.10573566e-02,\n",
       "       -2.82989818e-01,  2.01991216e-01, -2.20964403e-01, -2.06780792e-01,\n",
       "        2.71068121e-01,  1.49399245e-01,  2.06081683e-01, -2.48972918e-01,\n",
       "        2.94603951e-01,  1.63630104e-01, -2.75116892e-01,  1.59485147e-01,\n",
       "       -1.09029719e-01, -2.63872359e-01, -2.01595190e-02, -2.96307358e-01,\n",
       "       -1.23435644e-01, -1.01075937e-01, -2.77252843e-01, -1.73074949e-01,\n",
       "        8.46208360e-02,  2.49018557e-02,  1.17111267e-01,  2.01723194e-01,\n",
       "       -5.36434744e-02, -8.62144759e-03,  1.76380489e-01,  2.52162105e-01,\n",
       "       -1.02493785e-01, -2.92580164e-01,  2.44614670e-01,  2.92737173e-01,\n",
       "        5.33375531e-02, -8.35006520e-02,  8.27831419e-02, -1.70743874e-01,\n",
       "       -1.85501190e-01,  1.00216755e-01, -1.41663424e-01,  1.19843179e-01,\n",
       "       -7.32412049e-02,  2.89117508e-01, -9.25608508e-05,  1.97594590e-01,\n",
       "       -3.12187084e-02,  4.97256170e-02,  7.52918280e-02, -2.27339999e-01,\n",
       "        2.27614115e-01,  2.97404265e-01, -5.89715308e-02, -1.31216160e-01,\n",
       "        2.75781910e-01, -6.09139617e-02, -6.26989631e-02, -1.20297906e-01])"
      ]
     },
     "execution_count": 28,
     "metadata": {},
     "output_type": "execute_result"
    }
   ],
   "source": [
    "cube_samples = np.random.uniform(-r,r,N)"
   ]
  },
  {
   "cell_type": "markdown",
   "metadata": {
    "id": "H7m1UAs_YCVH"
   },
   "source": [
    "Check yourself that samples are within given range"
   ]
  },
  {
   "cell_type": "code",
   "execution_count": 26,
   "metadata": {
    "id": "Uwe3xGsdYBqW"
   },
   "outputs": [],
   "source": [
    "assert np.all(cube_samples >= -r) and np.all(cube_samples <= r)"
   ]
  },
  {
   "cell_type": "markdown",
   "metadata": {
    "id": "f7JwvziMZop0"
   },
   "source": [
    "What does this line do?"
   ]
  },
  {
   "cell_type": "markdown",
   "metadata": {
    "id": "WJDufuClvZGx"
   },
   "source": [
    "This line makes sur that the samples are within -r and r. If it is not the case the exectution stops and it returns an error."
   ]
  },
  {
   "cell_type": "markdown",
   "metadata": {
    "id": "qDjd6qnXZvyv"
   },
   "source": [
    "Now how can you verify that a point lies in the sphere with a center in (0, 0) and radius r=0.5? \n",
    "\n",
    "*Hint: use [np.linalg.norm](https://numpy.org/doc/stable/reference/generated/numpy.linalg.norm.html)*"
   ]
  },
  {
   "cell_type": "code",
   "execution_count": 27,
   "metadata": {
    "colab": {
     "base_uri": "https://localhost:8080/"
    },
    "id": "ytLVcqLRWqe3",
    "outputId": "a75ee8bf-8deb-4656-8002-8d3e442ecab2"
   },
   "outputs": [
    {
     "data": {
      "text/plain": [
       "array([0.91893616, 0.58560492])"
      ]
     },
     "execution_count": 27,
     "metadata": {},
     "output_type": "execute_result"
    }
   ],
   "source": [
    "point=np.random.rand(2,)\n",
    "r=0.5\n",
    "point"
   ]
  },
  {
   "cell_type": "code",
   "execution_count": 28,
   "metadata": {
    "colab": {
     "base_uri": "https://localhost:8080/"
    },
    "id": "eEVuw8S0YxgT",
    "outputId": "860b1b4e-8948-470d-8771-733b8000d49b"
   },
   "outputs": [
    {
     "data": {
      "text/plain": [
       "False"
      ]
     },
     "execution_count": 28,
     "metadata": {},
     "output_type": "execute_result"
    }
   ],
   "source": [
    "res=(np.linalg.norm(point)>=-r and np.linalg.norm(point)<=r) #check if the point lies in the sphere with a center in (0, 0) and radius r=0.\n",
    "res"
   ]
  },
  {
   "cell_type": "markdown",
   "metadata": {
    "id": "CBFbeyBMajZg"
   },
   "source": [
    "What if we have N=100 points so the array of shape (100,2)? In this case we want to have an answer for each point separately.\n",
    "\n",
    "*Hint: check the axis argument in the function you used for one point.*"
   ]
  },
  {
   "cell_type": "code",
   "execution_count": 29,
   "metadata": {
    "colab": {
     "base_uri": "https://localhost:8080/"
    },
    "id": "Gq4COT2xaNWx",
    "outputId": "7b675375-9b41-4da0-9b1e-a0fddead0732"
   },
   "outputs": [
    {
     "data": {
      "text/plain": [
       "array([[0.86188465, 0.55677129],\n",
       "       [0.9806398 , 0.20578595],\n",
       "       [0.56781731, 0.78938155],\n",
       "       [0.98991222, 0.32475445],\n",
       "       [0.17541978, 0.68107308]])"
      ]
     },
     "execution_count": 29,
     "metadata": {},
     "output_type": "execute_result"
    }
   ],
   "source": [
    "points=np.random.rand(100,2)\n",
    "points[:5]"
   ]
  },
  {
   "cell_type": "code",
   "execution_count": 30,
   "metadata": {
    "colab": {
     "base_uri": "https://localhost:8080/"
    },
    "id": "kyrur7yjaw73",
    "outputId": "fc132a5d-bbe1-49f6-b572-1e5230565cb1"
   },
   "outputs": [
    {
     "data": {
      "text/plain": [
       "array([False, False, False, False, False, False, False, False, False,\n",
       "       False, False, False, False, False, False, False, False, False,\n",
       "       False, False, False, False,  True,  True, False, False, False,\n",
       "       False, False, False, False, False,  True, False, False, False,\n",
       "        True, False,  True, False, False, False, False, False, False,\n",
       "       False, False, False, False, False, False,  True, False, False,\n",
       "       False, False, False,  True, False, False, False,  True, False,\n",
       "       False, False, False,  True, False, False, False,  True,  True,\n",
       "       False,  True, False, False, False, False, False, False, False,\n",
       "       False, False, False, False, False, False,  True, False, False,\n",
       "        True, False, False, False, False, False, False, False, False,\n",
       "        True])"
      ]
     },
     "execution_count": 30,
     "metadata": {},
     "output_type": "execute_result"
    }
   ],
   "source": [
    "res = np.array([(np.linalg.norm(points[i])>=-r and np.linalg.norm(points[i])<=r) for i in range(100)])\n",
    "res\n"
   ]
  },
  {
   "cell_type": "markdown",
   "metadata": {
    "id": "N0xH4y7XbftR"
   },
   "source": [
    "How many points are in the sphere?\n",
    "\n",
    "Hint: use [np.sum](https://numpy.org/doc/stable/reference/generated/numpy.sum.html)"
   ]
  },
  {
   "cell_type": "code",
   "execution_count": 31,
   "metadata": {
    "colab": {
     "base_uri": "https://localhost:8080/"
    },
    "id": "XyOxHo-tbYbW",
    "outputId": "e179bf07-b6c2-4bb5-b503-09f7317a42fe"
   },
   "outputs": [
    {
     "data": {
      "text/plain": [
       "15"
      ]
     },
     "execution_count": 31,
     "metadata": {},
     "output_type": "execute_result"
    }
   ],
   "source": [
    "#how many points are in the sphere?\n",
    "res = np.sum(res)\n",
    "res"
   ]
  },
  {
   "cell_type": "markdown",
   "metadata": {
    "id": "JqGmgYONb3aH"
   },
   "source": [
    "Now let us check the simulation presented in the course: how many sampels from the cube will fall in the hypersphere? The cube [-r,r] and the sphere with hte center in O and radius r, both in D dimensional space. Vary D from 1 to 20 and plot the number of samples in the sphere along y axis and dimension along x axis. r=0.3"
   ]
  },
  {
   "cell_type": "code",
   "execution_count": 32,
   "metadata": {
    "id": "lf7Tc6sibytN"
   },
   "outputs": [],
   "source": [
    "r = 0.3\n",
    "N = 1000\n",
    "D_range=range(1,20)\n",
    "samples_in_sphere_list = []\n",
    "for D in D_range:\n",
    "  cube_samples = np.random.uniform(-r,r,N)\n",
    "  points = points=np.random.rand(N,D)\n",
    "  samples_in_sphere = np.sum(np.array([(np.linalg.norm(points[i])>=-r and np.linalg.norm(points[i])<=r) for i in range(100)]))\n",
    "  samples_in_sphere_list.append(samples_in_sphere)"
   ]
  },
  {
   "cell_type": "code",
   "execution_count": 33,
   "metadata": {
    "colab": {
     "base_uri": "https://localhost:8080/",
     "height": 296
    },
    "id": "rVu9jfZUdNPl",
    "outputId": "c4e6ae78-75a1-4b2c-c438-e1e1eb1c1b78"
   },
   "outputs": [
    {
     "data": {
      "text/plain": [
       "Text(0, 0.5, 'Samples in the sphere')"
      ]
     },
     "execution_count": 33,
     "metadata": {},
     "output_type": "execute_result"
    },
    {
     "data": {
      "image/png": "[encoded data removed]",
      "text/plain": [
       "<Figure size 432x288 with 1 Axes>"
      ]
     },
     "metadata": {
      "needs_background": "light"
     },
     "output_type": "display_data"
    }
   ],
   "source": [
    "plt.plot(D_range,samples_in_sphere_list)\n",
    "plt.xlabel(\"Dimensionality\")\n",
    "plt.ylabel(\"Samples in the sphere\")"
   ]
  },
  {
   "cell_type": "markdown",
   "metadata": {
    "id": "xXZLGZbqBQPv"
   },
   "source": [
    "**Concentration of angles** (slides 20-22)\n",
    "\n",
    "Draw vectors from a D-dimensional space, what is their expected angle?"
   ]
  },
  {
   "cell_type": "code",
   "execution_count": 34,
   "metadata": {
    "id": "zY4QvCLQ_Zoo"
   },
   "outputs": [],
   "source": [
    "def generate_points(D):\n",
    "  X = np.random.rand(D,)\n",
    "  Y = np.random.rand(D,)\n",
    "  Z = np.random.rand(D,)\n",
    "  W = np.random.rand(D,)\n",
    "  return X, Y, Z, W\n",
    "\n",
    "def compute_cos(a, b):\n",
    "  cos = np.cos(np.dot(a,b)/(np.linalg.norm(a)*np.linalg.norm(b)))\n",
    "  return cos"
   ]
  },
  {
   "cell_type": "markdown",
   "metadata": {
    "id": "y80I8W2jL__e"
   },
   "source": [
    "First, verify how cos of the angle between two random vectors. For defining two vectors we sample 4 random points.\n",
    "\n",
    "$$a = X - Y$$\n",
    "$$b = W - Z$$"
   ]
  },
  {
   "cell_type": "code",
   "execution_count": 35,
   "metadata": {
    "id": "mrUEGP1fCAcY"
   },
   "outputs": [],
   "source": [
    "N = 100\n",
    "means_cos = []\n",
    "D_range=range(5,1000)\n",
    "for D in D_range:\n",
    "  sum_cos = 0\n",
    "  for _ in range(N):\n",
    "    X, Y, Z, W = generate_points(D)\n",
    "    cos = compute_cos(np.subtract(X,Y), np.subtract(W,Z))\n",
    "    sum_cos += cos\n",
    "  mean_cos = sum_cos/N\n",
    "  means_cos.append(mean_cos)"
   ]
  },
  {
   "cell_type": "code",
   "execution_count": 36,
   "metadata": {
    "colab": {
     "base_uri": "https://localhost:8080/",
     "height": 296
    },
    "id": "gotAGUcyDOOh",
    "outputId": "458d0e17-ad1f-4973-ab1c-2c7440945d3f"
   },
   "outputs": [
    {
     "data": {
      "text/plain": [
       "Text(0, 0.5, 'cos')"
      ]
     },
     "execution_count": 36,
     "metadata": {},
     "output_type": "execute_result"
    },
    {
     "data": {
      "image/png": "[encoded data removed]",
      "text/plain": [
       "<Figure size 432x288 with 1 Axes>"
      ]
     },
     "metadata": {
      "needs_background": "light"
     },
     "output_type": "display_data"
    }
   ],
   "source": [
    "plt.plot(D_range, means_cos)\n",
    "plt.xlabel(\"Dimension\")\n",
    "plt.ylabel(\"cos\")"
   ]
  },
  {
   "cell_type": "markdown",
   "metadata": {
    "id": "oXNlT7SFM920"
   },
   "source": [
    "Now, verify the angle between vectors which form a triangle."
   ]
  },
  {
   "cell_type": "code",
   "execution_count": 37,
   "metadata": {
    "id": "y7_bFTy9DyB2"
   },
   "outputs": [],
   "source": [
    "N = 100\n",
    "means_cos = []\n",
    "D_range=range(5,1000)\n",
    "for D in D_range:\n",
    "  sum_cos = 0\n",
    "  for _ in range(N):\n",
    "    X, Y, Z, W = generate_points(D)\n",
    "    cos = compute_cos(np.subtract(X,Y), np.subtract(Z,Y))\n",
    "#np.cos((np.dot(Y,Y)-np.dot(X,Y))/(2*np.dot(Y,Y)-2*np.dot(X,Y)))\n",
    "    sum_cos += cos\n",
    "  mean_cos = sum_cos/N\n",
    "  means_cos.append(mean_cos)"
   ]
  },
  {
   "cell_type": "code",
   "execution_count": 38,
   "metadata": {
    "colab": {
     "base_uri": "https://localhost:8080/",
     "height": 296
    },
    "id": "fGUFm4_1F108",
    "outputId": "534e6dbd-e026-49b8-9c3a-54294798c419"
   },
   "outputs": [
    {
     "data": {
      "text/plain": [
       "Text(0, 0.5, 'cos')"
      ]
     },
     "execution_count": 38,
     "metadata": {},
     "output_type": "execute_result"
    },
    {
     "data": {
      "image/png": "[encoded data removed]",
      "text/plain": [
       "<Figure size 432x288 with 1 Axes>"
      ]
     },
     "metadata": {
      "needs_background": "light"
     },
     "output_type": "display_data"
    }
   ],
   "source": [
    "plt.plot(D_range, means_cos)\n",
    "plt.xlabel(\"Dimension\")\n",
    "plt.ylabel(\"cos\")"
   ]
  }
 ],
 "metadata": {
  "colab": {
   "collapsed_sections": [],
   "provenance": [],
   "toc_visible": true
  },
  "kernelspec": {
   "display_name": "Python 3 (ipykernel)",
   "language": "python",
   "name": "python3"
  },
  "language_info": {
   "codemirror_mode": {
    "name": "ipython",
    "version": 3
   },
   "file_extension": ".py",
   "mimetype": "text/x-python",
   "name": "python",
   "nbconvert_exporter": "python",
   "pygments_lexer": "ipython3",
   "version": "3.11.4"
  }
 },
 "nbformat": 4,
 "nbformat_minor": 4
}
